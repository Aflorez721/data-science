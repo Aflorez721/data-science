{
  "cells": [
    {
      "metadata": {
        "_uuid": "3bd4998d234aea7834efc3ad99abba964f73a508"
      },
      "cell_type": "markdown",
      "source": "## <font color=\"red\">OLYMPIC GAMES</font>\nThe Olympic Games is an international sports festival that began in ancient Greece. The first of the ancient Olympic Games date to 776 B.C. It was a religious festival honoring Zeus. Games were staged every fourth year for several hundred years, until it had banned by Roman emperor Theodosius because of they had pagan connotations in A.D. 394. However in 1896 the games were revived in Athens and in 1924 The Winter Olympics were introduced. Today Oympic Games are considered one of the bigger sports event with participants from more than 200 countries.\n\n![](https://cdn-images-1.medium.com/max/1800/1*2g_uOUQmzmj_02Uh71hYtQ.png)\n\n<br>Contents: <br>\n1. [Top 30 Countries](#1)\n1. [Athletics](#2)\n1. [Swimming](#3)\n1. [Shooting](#4)\n1. [Cycling](#5)\n1. [Wrestling](#6)\n1. [Football](#7)\n1. [Basketball](#8)\n1. [Sailing](#9)\n1. [Rowing](#10)\n1. [Fencing](#11)\n1. [Boxing](#12)\n1. [Weightlifting](#13)\n1. [Archery](#14)\n1. [Relations Between Age and Success](#15)\n1. [Women in Olympics](#16)\n1. [Most Successful Sporters](#17)\n"
    },
    {
      "metadata": {
        "_uuid": "8f2839f25d086af736a60e9eeb907d3b93b6e0e5",
        "_cell_guid": "b1076dfc-b9ad-4769-8c92-a6c4dae69d19",
        "trusted": true,
        "_kg_hide-input": true
      },
      "cell_type": "code",
      "source": "# This Python 3 environment comes with many helpful analytics libraries installed\n# It is defined by the kaggle/python docker image: https://github.com/kaggle/docker-python\n# For example, here's several helpful packages to load in \n\nimport numpy as np # linear algebra\nimport pandas as pd # data processing, CSV file I/O (e.g. pd.read_csv)\nimport matplotlib.pyplot as plt\nimport seaborn as sns\nimport plotly.plotly as py\nfrom plotly.offline import init_notebook_mode, iplot\ninit_notebook_mode(connected=True)\nimport plotly.graph_objs as go\nfrom plotly import tools\nimport random\n\n# Input data files are available in the \"../input/\" directory.\n# For example, running this (by clicking run or pressing Shift+Enter) will list the files in the input directory\n\nimport os\nprint(os.listdir(\"../input\"))\n\n# Any results you write to the current directory are saved as output.",
      "execution_count": 135,
      "outputs": [
        {
          "output_type": "display_data",
          "data": {
            "text/html": "<script>requirejs.config({paths: { 'plotly': ['https://cdn.plot.ly/plotly-latest.min']},});if(!window.Plotly) {{require(['plotly'],function(plotly) {window.Plotly=plotly;});}}</script>",
            "text/vnd.plotly.v1+html": "<script>requirejs.config({paths: { 'plotly': ['https://cdn.plot.ly/plotly-latest.min']},});if(!window.Plotly) {{require(['plotly'],function(plotly) {window.Plotly=plotly;});}}</script>"
          },
          "metadata": {}
        },
        {
          "output_type": "stream",
          "text": "['athlete_events.csv', 'noc_regions.csv']\n",
          "name": "stdout"
        }
      ]
    },
    {
      "metadata": {
        "_cell_guid": "79c7e3d0-c299-4dcb-8224-4455121ee9b0",
        "_uuid": "d629ff2d2480ee46fbb7e2d37f6b5fab8052498a",
        "trusted": true,
        "_kg_hide-input": true
      },
      "cell_type": "code",
      "source": "df = pd.read_csv(\"../input/athlete_events.csv\")",
      "execution_count": 136,
      "outputs": []
    },
    {
      "metadata": {
        "trusted": true,
        "_uuid": "8e56d448502886fd37b350d1a9a5a642e20c235f",
        "_kg_hide-input": false
      },
      "cell_type": "code",
      "source": "df.head()",
      "execution_count": null,
      "outputs": []
    },
    {
      "metadata": {
        "trusted": true,
        "_uuid": "ced90aed04cd29a22707cfaeccc2471adc2fbe80"
      },
      "cell_type": "code",
      "source": "df.info()",
      "execution_count": null,
      "outputs": []
    },
    {
      "metadata": {
        "trusted": true,
        "_uuid": "505f98684594721e4ded169f71ec83270ac11a89"
      },
      "cell_type": "code",
      "source": "df.columns",
      "execution_count": null,
      "outputs": []
    },
    {
      "metadata": {
        "trusted": true,
        "_uuid": "bb9bcc6c8edbedc44ef24027a2b5dcd955cf170a",
        "_kg_hide-input": true
      },
      "cell_type": "code",
      "source": "df.Medal.unique()",
      "execution_count": null,
      "outputs": []
    },
    {
      "metadata": {
        "trusted": true,
        "scrolled": true,
        "_uuid": "67e611fba142562680955e8ae52b4f71bfcbf5ef",
        "_kg_hide-input": true
      },
      "cell_type": "code",
      "source": "dataMedal = df[(df.Medal == 'Gold') | (df.Medal == 'Silver') | (df.Medal == 'Bronze')]\ndataMedal[\"CountMedal\"] = 1\ndataMedal.head()",
      "execution_count": 138,
      "outputs": [
        {
          "output_type": "stream",
          "text": "/opt/conda/lib/python3.6/site-packages/ipykernel_launcher.py:2: SettingWithCopyWarning:\n\n\nA value is trying to be set on a copy of a slice from a DataFrame.\nTry using .loc[row_indexer,col_indexer] = value instead\n\nSee the caveats in the documentation: http://pandas.pydata.org/pandas-docs/stable/indexing.html#indexing-view-versus-copy\n\n",
          "name": "stderr"
        },
        {
          "output_type": "execute_result",
          "execution_count": 138,
          "data": {
            "text/plain": "    ID                      Name     ...       Medal  CountMedal\n3    4      Edgar Lindenau Aabye     ...        Gold           1\n37  15      Arvo Ossian Aaltonen     ...      Bronze           1\n38  15      Arvo Ossian Aaltonen     ...      Bronze           1\n40  16  Juhamatti Tapio Aaltonen     ...      Bronze           1\n41  17   Paavo Johannes Aaltonen     ...      Bronze           1\n\n[5 rows x 16 columns]",
            "text/html": "<div>\n<style scoped>\n    .dataframe tbody tr th:only-of-type {\n        vertical-align: middle;\n    }\n\n    .dataframe tbody tr th {\n        vertical-align: top;\n    }\n\n    .dataframe thead th {\n        text-align: right;\n    }\n</style>\n<table border=\"1\" class=\"dataframe\">\n  <thead>\n    <tr style=\"text-align: right;\">\n      <th></th>\n      <th>ID</th>\n      <th>Name</th>\n      <th>Sex</th>\n      <th>Age</th>\n      <th>Height</th>\n      <th>Weight</th>\n      <th>Team</th>\n      <th>NOC</th>\n      <th>Games</th>\n      <th>Year</th>\n      <th>Season</th>\n      <th>City</th>\n      <th>Sport</th>\n      <th>Event</th>\n      <th>Medal</th>\n      <th>CountMedal</th>\n    </tr>\n  </thead>\n  <tbody>\n    <tr>\n      <th>3</th>\n      <td>4</td>\n      <td>Edgar Lindenau Aabye</td>\n      <td>M</td>\n      <td>34.0</td>\n      <td>NaN</td>\n      <td>NaN</td>\n      <td>Denmark/Sweden</td>\n      <td>DEN</td>\n      <td>1900 Summer</td>\n      <td>1900</td>\n      <td>Summer</td>\n      <td>Paris</td>\n      <td>Tug-Of-War</td>\n      <td>Tug-Of-War Men's Tug-Of-War</td>\n      <td>Gold</td>\n      <td>1</td>\n    </tr>\n    <tr>\n      <th>37</th>\n      <td>15</td>\n      <td>Arvo Ossian Aaltonen</td>\n      <td>M</td>\n      <td>30.0</td>\n      <td>NaN</td>\n      <td>NaN</td>\n      <td>Finland</td>\n      <td>FIN</td>\n      <td>1920 Summer</td>\n      <td>1920</td>\n      <td>Summer</td>\n      <td>Antwerpen</td>\n      <td>Swimming</td>\n      <td>Swimming Men's 200 metres Breaststroke</td>\n      <td>Bronze</td>\n      <td>1</td>\n    </tr>\n    <tr>\n      <th>38</th>\n      <td>15</td>\n      <td>Arvo Ossian Aaltonen</td>\n      <td>M</td>\n      <td>30.0</td>\n      <td>NaN</td>\n      <td>NaN</td>\n      <td>Finland</td>\n      <td>FIN</td>\n      <td>1920 Summer</td>\n      <td>1920</td>\n      <td>Summer</td>\n      <td>Antwerpen</td>\n      <td>Swimming</td>\n      <td>Swimming Men's 400 metres Breaststroke</td>\n      <td>Bronze</td>\n      <td>1</td>\n    </tr>\n    <tr>\n      <th>40</th>\n      <td>16</td>\n      <td>Juhamatti Tapio Aaltonen</td>\n      <td>M</td>\n      <td>28.0</td>\n      <td>184.0</td>\n      <td>85.0</td>\n      <td>Finland</td>\n      <td>FIN</td>\n      <td>2014 Winter</td>\n      <td>2014</td>\n      <td>Winter</td>\n      <td>Sochi</td>\n      <td>Ice Hockey</td>\n      <td>Ice Hockey Men's Ice Hockey</td>\n      <td>Bronze</td>\n      <td>1</td>\n    </tr>\n    <tr>\n      <th>41</th>\n      <td>17</td>\n      <td>Paavo Johannes Aaltonen</td>\n      <td>M</td>\n      <td>28.0</td>\n      <td>175.0</td>\n      <td>64.0</td>\n      <td>Finland</td>\n      <td>FIN</td>\n      <td>1948 Summer</td>\n      <td>1948</td>\n      <td>Summer</td>\n      <td>London</td>\n      <td>Gymnastics</td>\n      <td>Gymnastics Men's Individual All-Around</td>\n      <td>Bronze</td>\n      <td>1</td>\n    </tr>\n  </tbody>\n</table>\n</div>"
          },
          "metadata": {}
        }
      ]
    },
    {
      "metadata": {
        "_uuid": "355223b0443e4bf2d056922ef1841d7aab38ceb0"
      },
      "cell_type": "markdown",
      "source": "<a id=1></a><br>\n## <font color=\"red\">TOP 30 COUNTRIES</font>"
    },
    {
      "metadata": {
        "trusted": true,
        "_uuid": "9816d333a9734bb0cc756a05fcb8c446de8b4796"
      },
      "cell_type": "code",
      "source": "world = dataMedal.groupby(\"NOC\").sum()['CountMedal'].sort_values(ascending=False)",
      "execution_count": 143,
      "outputs": []
    },
    {
      "metadata": {
        "trusted": true,
        "_uuid": "8b4e4303d23d3e18b6fad1580eef9b2efb4f3050"
      },
      "cell_type": "code",
      "source": "plt.figure(figsize=(20,15))\ndata = [ dict(\n        type = 'choropleth',\n        locations = world.index,\n        z = world.values,\n        text = world.index,\n        colorscale = [[0,\"rgb(5, 10, 172)\"],[0.35,\"rgb(40, 60, 190)\"],[0.5,\"rgb(70, 100, 245)\"],\\\n            [0.6,\"rgb(90, 120, 245)\"],[0.7,\"rgb(106, 137, 247)\"],[1,\"rgb(220, 220, 220)\"]],\n        autocolorscale = False,\n        reversescale = True,\n        marker = dict(\n            line = dict (\n                color = 'rgb(180,180,180)',\n                width = 0.5\n            ) ),\n        colorbar = dict(\n            title = 'Medals'),\n      ) ]\n\nlayout = dict(\n    autosize=True,\n    width=1000,\n    height=600,\n    title = 'How Many Olympic Medals Each Country Has Won',\n    geo = dict(\n        showframe = False,\n        showcoastlines = False,\n        showland = True,\n        landcolor = \"#DFDFD0\",\n        projection = dict(\n            type = 'miller'\n        )\n    )\n)\n\nfig = dict( data=data, layout=layout )\niplot(fig)",
      "execution_count": 164,
      "outputs": [
        {
          "output_type": "display_data",
          "data": {
            "application/vnd.plotly.v1+json": {
              "data": [
                {
                  "autocolorscale": false,
                  "colorbar": {
                    "title": "Medals"
                  },
                  "colorscale": [
                    [
                      0,
                      "rgb(5, 10, 172)"
                    ],
                    [
                      0.35,
                      "rgb(40, 60, 190)"
                    ],
                    [
                      0.5,
                      "rgb(70, 100, 245)"
                    ],
                    [
                      0.6,
                      "rgb(90, 120, 245)"
                    ],
                    [
                      0.7,
                      "rgb(106, 137, 247)"
                    ],
                    [
                      1,
                      "rgb(220, 220, 220)"
                    ]
                  ],
                  "locations": [
                    "USA",
                    "URS",
                    "GER",
                    "GBR",
                    "FRA",
                    "ITA",
                    "SWE",
                    "CAN",
                    "AUS",
                    "RUS",
                    "HUN",
                    "NED",
                    "NOR",
                    "GDR",
                    "CHN",
                    "JPN",
                    "FIN",
                    "SUI",
                    "ROU",
                    "KOR",
                    "DEN",
                    "FRG",
                    "POL",
                    "ESP",
                    "TCH",
                    "BRA",
                    "BEL",
                    "AUT",
                    "CUB",
                    "YUG",
                    "BUL",
                    "EUN",
                    "ARG",
                    "GRE",
                    "NZL",
                    "UKR",
                    "IND",
                    "JAM",
                    "CRO",
                    "CZE",
                    "BLR",
                    "RSA",
                    "PAK",
                    "MEX",
                    "KEN",
                    "NGR",
                    "TUR",
                    "SRB",
                    "KAZ",
                    "IRI",
                    "PRK",
                    "SCG",
                    "URU",
                    "LTU",
                    "ETH",
                    "EST",
                    "TPE",
                    "SLO",
                    "SVK",
                    "AZE",
                    "POR",
                    "INA",
                    "BAH",
                    "IRL",
                    "LAT",
                    "UZB",
                    "GEO",
                    "CHI",
                    "TTO",
                    "THA",
                    "ANZ",
                    "COL",
                    "EGY",
                    "MGL",
                    "MAR",
                    "GHA",
                    "CMR",
                    "ZIM",
                    "ALG",
                    "PAR",
                    "ISL",
                    "ARM",
                    "MAS",
                    "PER",
                    "VEN",
                    "MNE",
                    "FIJ",
                    "TUN",
                    "BOH",
                    "PHI",
                    "PUR",
                    "SGP",
                    "ISR",
                    "LIE",
                    "MDA",
                    "LUX",
                    "HAI",
                    "UGA",
                    "DOM",
                    "KSA",
                    "WIF",
                    "QAT",
                    "IOA",
                    "CRC",
                    "NAM",
                    "VIE",
                    "LIB",
                    "TJK",
                    "HKG",
                    "CIV",
                    "BRN",
                    "SYR",
                    "KGZ",
                    "PAN",
                    "AFG",
                    "TAN",
                    "GRN",
                    "ZAM",
                    "NIG",
                    "BDI",
                    "ECU",
                    "KUW",
                    "SRI",
                    "UAE",
                    "UAR",
                    "SUR",
                    "MOZ",
                    "BAR",
                    "GUY",
                    "BER",
                    "IRQ",
                    "ISV",
                    "KOS",
                    "AHO",
                    "GUA",
                    "JOR",
                    "TOG",
                    "BOT",
                    "MON",
                    "TGA",
                    "GAB",
                    "SUD",
                    "MRI",
                    "NEP",
                    "SEN",
                    "CYP",
                    "DJI",
                    "ERI",
                    "MKD"
                  ],
                  "marker": {
                    "line": {
                      "color": "rgb(180,180,180)",
                      "width": 0.5
                    }
                  },
                  "reversescale": true,
                  "text": [
                    "USA",
                    "URS",
                    "GER",
                    "GBR",
                    "FRA",
                    "ITA",
                    "SWE",
                    "CAN",
                    "AUS",
                    "RUS",
                    "HUN",
                    "NED",
                    "NOR",
                    "GDR",
                    "CHN",
                    "JPN",
                    "FIN",
                    "SUI",
                    "ROU",
                    "KOR",
                    "DEN",
                    "FRG",
                    "POL",
                    "ESP",
                    "TCH",
                    "BRA",
                    "BEL",
                    "AUT",
                    "CUB",
                    "YUG",
                    "BUL",
                    "EUN",
                    "ARG",
                    "GRE",
                    "NZL",
                    "UKR",
                    "IND",
                    "JAM",
                    "CRO",
                    "CZE",
                    "BLR",
                    "RSA",
                    "PAK",
                    "MEX",
                    "KEN",
                    "NGR",
                    "TUR",
                    "SRB",
                    "KAZ",
                    "IRI",
                    "PRK",
                    "SCG",
                    "URU",
                    "LTU",
                    "ETH",
                    "EST",
                    "TPE",
                    "SLO",
                    "SVK",
                    "AZE",
                    "POR",
                    "INA",
                    "BAH",
                    "IRL",
                    "LAT",
                    "UZB",
                    "GEO",
                    "CHI",
                    "TTO",
                    "THA",
                    "ANZ",
                    "COL",
                    "EGY",
                    "MGL",
                    "MAR",
                    "GHA",
                    "CMR",
                    "ZIM",
                    "ALG",
                    "PAR",
                    "ISL",
                    "ARM",
                    "MAS",
                    "PER",
                    "VEN",
                    "MNE",
                    "FIJ",
                    "TUN",
                    "BOH",
                    "PHI",
                    "PUR",
                    "SGP",
                    "ISR",
                    "LIE",
                    "MDA",
                    "LUX",
                    "HAI",
                    "UGA",
                    "DOM",
                    "KSA",
                    "WIF",
                    "QAT",
                    "IOA",
                    "CRC",
                    "NAM",
                    "VIE",
                    "LIB",
                    "TJK",
                    "HKG",
                    "CIV",
                    "BRN",
                    "SYR",
                    "KGZ",
                    "PAN",
                    "AFG",
                    "TAN",
                    "GRN",
                    "ZAM",
                    "NIG",
                    "BDI",
                    "ECU",
                    "KUW",
                    "SRI",
                    "UAE",
                    "UAR",
                    "SUR",
                    "MOZ",
                    "BAR",
                    "GUY",
                    "BER",
                    "IRQ",
                    "ISV",
                    "KOS",
                    "AHO",
                    "GUA",
                    "JOR",
                    "TOG",
                    "BOT",
                    "MON",
                    "TGA",
                    "GAB",
                    "SUD",
                    "MRI",
                    "NEP",
                    "SEN",
                    "CYP",
                    "DJI",
                    "ERI",
                    "MKD"
                  ],
                  "z": [
                    5637,
                    2503,
                    2165,
                    2068,
                    1777,
                    1637,
                    1536,
                    1352,
                    1320,
                    1165,
                    1135,
                    1040,
                    1033,
                    1005,
                    989,
                    913,
                    900,
                    691,
                    653,
                    638,
                    597,
                    586,
                    565,
                    489,
                    488,
                    475,
                    468,
                    450,
                    409,
                    390,
                    342,
                    279,
                    274,
                    255,
                    228,
                    199,
                    197,
                    157,
                    149,
                    144,
                    139,
                    131,
                    121,
                    110,
                    106,
                    99,
                    95,
                    85,
                    77,
                    68,
                    67,
                    64,
                    63,
                    61,
                    53,
                    50,
                    49,
                    48,
                    47,
                    44,
                    41,
                    41,
                    40,
                    35,
                    35,
                    34,
                    32,
                    32,
                    32,
                    30,
                    29,
                    28,
                    27,
                    26,
                    23,
                    23,
                    22,
                    22,
                    17,
                    17,
                    17,
                    16,
                    16,
                    15,
                    15,
                    14,
                    13,
                    13,
                    12,
                    10,
                    9,
                    9,
                    9,
                    9,
                    8,
                    8,
                    7,
                    7,
                    7,
                    6,
                    5,
                    5,
                    5,
                    4,
                    4,
                    4,
                    4,
                    4,
                    4,
                    3,
                    3,
                    3,
                    3,
                    3,
                    2,
                    2,
                    2,
                    2,
                    2,
                    2,
                    2,
                    2,
                    2,
                    2,
                    2,
                    2,
                    2,
                    1,
                    1,
                    1,
                    1,
                    1,
                    1,
                    1,
                    1,
                    1,
                    1,
                    1,
                    1,
                    1,
                    1,
                    1,
                    1,
                    1,
                    1,
                    1,
                    1,
                    1,
                    1
                  ],
                  "type": "choropleth",
                  "uid": "5352f592-e854-11e8-abf7-0242ac130002"
                }
              ],
              "layout": {
                "autosize": true,
                "geo": {
                  "landcolor": "#DFDFD0",
                  "projection": {
                    "type": "miller"
                  },
                  "showcoastlines": false,
                  "showframe": false,
                  "showland": true
                },
                "height": 600,
                "title": "How Many Olympic Medals Each Country Has Won",
                "width": 1000
              }
            },
            "text/html": "<div id=\"a93d9e87-69c9-4d64-b7bf-c9b7500b2c5f\" style=\"height: 600px; width: 1000px;\" class=\"plotly-graph-div\"></div><script type=\"text/javascript\">require([\"plotly\"], function(Plotly) { window.PLOTLYENV=window.PLOTLYENV || {};window.PLOTLYENV.BASE_URL=\"https://plot.ly\";Plotly.newPlot(\"a93d9e87-69c9-4d64-b7bf-c9b7500b2c5f\", [{\"autocolorscale\": false, \"colorbar\": {\"title\": \"Medals\"}, \"colorscale\": [[0, \"rgb(5, 10, 172)\"], [0.35, \"rgb(40, 60, 190)\"], [0.5, \"rgb(70, 100, 245)\"], [0.6, \"rgb(90, 120, 245)\"], [0.7, \"rgb(106, 137, 247)\"], [1, \"rgb(220, 220, 220)\"]], \"locations\": [\"USA\", \"URS\", \"GER\", \"GBR\", \"FRA\", \"ITA\", \"SWE\", \"CAN\", \"AUS\", \"RUS\", \"HUN\", \"NED\", \"NOR\", \"GDR\", \"CHN\", \"JPN\", \"FIN\", \"SUI\", \"ROU\", \"KOR\", \"DEN\", \"FRG\", \"POL\", \"ESP\", \"TCH\", \"BRA\", \"BEL\", \"AUT\", \"CUB\", \"YUG\", \"BUL\", \"EUN\", \"ARG\", \"GRE\", \"NZL\", \"UKR\", \"IND\", \"JAM\", \"CRO\", \"CZE\", \"BLR\", \"RSA\", \"PAK\", \"MEX\", \"KEN\", \"NGR\", \"TUR\", \"SRB\", \"KAZ\", \"IRI\", \"PRK\", \"SCG\", \"URU\", \"LTU\", \"ETH\", \"EST\", \"TPE\", \"SLO\", \"SVK\", \"AZE\", \"POR\", \"INA\", \"BAH\", \"IRL\", \"LAT\", \"UZB\", \"GEO\", \"CHI\", \"TTO\", \"THA\", \"ANZ\", \"COL\", \"EGY\", \"MGL\", \"MAR\", \"GHA\", \"CMR\", \"ZIM\", \"ALG\", \"PAR\", \"ISL\", \"ARM\", \"MAS\", \"PER\", \"VEN\", \"MNE\", \"FIJ\", \"TUN\", \"BOH\", \"PHI\", \"PUR\", \"SGP\", \"ISR\", \"LIE\", \"MDA\", \"LUX\", \"HAI\", \"UGA\", \"DOM\", \"KSA\", \"WIF\", \"QAT\", \"IOA\", \"CRC\", \"NAM\", \"VIE\", \"LIB\", \"TJK\", \"HKG\", \"CIV\", \"BRN\", \"SYR\", \"KGZ\", \"PAN\", \"AFG\", \"TAN\", \"GRN\", \"ZAM\", \"NIG\", \"BDI\", \"ECU\", \"KUW\", \"SRI\", \"UAE\", \"UAR\", \"SUR\", \"MOZ\", \"BAR\", \"GUY\", \"BER\", \"IRQ\", \"ISV\", \"KOS\", \"AHO\", \"GUA\", \"JOR\", \"TOG\", \"BOT\", \"MON\", \"TGA\", \"GAB\", \"SUD\", \"MRI\", \"NEP\", \"SEN\", \"CYP\", \"DJI\", \"ERI\", \"MKD\"], \"marker\": {\"line\": {\"color\": \"rgb(180,180,180)\", \"width\": 0.5}}, \"reversescale\": true, \"text\": [\"USA\", \"URS\", \"GER\", \"GBR\", \"FRA\", \"ITA\", \"SWE\", \"CAN\", \"AUS\", \"RUS\", \"HUN\", \"NED\", \"NOR\", \"GDR\", \"CHN\", \"JPN\", \"FIN\", \"SUI\", \"ROU\", \"KOR\", \"DEN\", \"FRG\", \"POL\", \"ESP\", \"TCH\", \"BRA\", \"BEL\", \"AUT\", \"CUB\", \"YUG\", \"BUL\", \"EUN\", \"ARG\", \"GRE\", \"NZL\", \"UKR\", \"IND\", \"JAM\", \"CRO\", \"CZE\", \"BLR\", \"RSA\", \"PAK\", \"MEX\", \"KEN\", \"NGR\", \"TUR\", \"SRB\", \"KAZ\", \"IRI\", \"PRK\", \"SCG\", \"URU\", \"LTU\", \"ETH\", \"EST\", \"TPE\", \"SLO\", \"SVK\", \"AZE\", \"POR\", \"INA\", \"BAH\", \"IRL\", \"LAT\", \"UZB\", \"GEO\", \"CHI\", \"TTO\", \"THA\", \"ANZ\", \"COL\", \"EGY\", \"MGL\", \"MAR\", \"GHA\", \"CMR\", \"ZIM\", \"ALG\", \"PAR\", \"ISL\", \"ARM\", \"MAS\", \"PER\", \"VEN\", \"MNE\", \"FIJ\", \"TUN\", \"BOH\", \"PHI\", \"PUR\", \"SGP\", \"ISR\", \"LIE\", \"MDA\", \"LUX\", \"HAI\", \"UGA\", \"DOM\", \"KSA\", \"WIF\", \"QAT\", \"IOA\", \"CRC\", \"NAM\", \"VIE\", \"LIB\", \"TJK\", \"HKG\", \"CIV\", \"BRN\", \"SYR\", \"KGZ\", \"PAN\", \"AFG\", \"TAN\", \"GRN\", \"ZAM\", \"NIG\", \"BDI\", \"ECU\", \"KUW\", \"SRI\", \"UAE\", \"UAR\", \"SUR\", \"MOZ\", \"BAR\", \"GUY\", \"BER\", \"IRQ\", \"ISV\", \"KOS\", \"AHO\", \"GUA\", \"JOR\", \"TOG\", \"BOT\", \"MON\", \"TGA\", \"GAB\", \"SUD\", \"MRI\", \"NEP\", \"SEN\", \"CYP\", \"DJI\", \"ERI\", \"MKD\"], \"z\": [5637, 2503, 2165, 2068, 1777, 1637, 1536, 1352, 1320, 1165, 1135, 1040, 1033, 1005, 989, 913, 900, 691, 653, 638, 597, 586, 565, 489, 488, 475, 468, 450, 409, 390, 342, 279, 274, 255, 228, 199, 197, 157, 149, 144, 139, 131, 121, 110, 106, 99, 95, 85, 77, 68, 67, 64, 63, 61, 53, 50, 49, 48, 47, 44, 41, 41, 40, 35, 35, 34, 32, 32, 32, 30, 29, 28, 27, 26, 23, 23, 22, 22, 17, 17, 17, 16, 16, 15, 15, 14, 13, 13, 12, 10, 9, 9, 9, 9, 8, 8, 7, 7, 7, 6, 5, 5, 5, 4, 4, 4, 4, 4, 4, 3, 3, 3, 3, 3, 2, 2, 2, 2, 2, 2, 2, 2, 2, 2, 2, 2, 2, 1, 1, 1, 1, 1, 1, 1, 1, 1, 1, 1, 1, 1, 1, 1, 1, 1, 1, 1, 1, 1, 1], \"type\": \"choropleth\", \"uid\": \"53561952-e854-11e8-abf7-0242ac130002\"}], {\"autosize\": true, \"geo\": {\"landcolor\": \"#DFDFD0\", \"projection\": {\"type\": \"miller\"}, \"showcoastlines\": false, \"showframe\": false, \"showland\": true}, \"height\": 600, \"title\": \"How Many Olympic Medals Each Country Has Won\", \"width\": 1000}, {\"showLink\": true, \"linkText\": \"Export to plot.ly\"})});</script>",
            "text/vnd.plotly.v1+html": "<div id=\"a93d9e87-69c9-4d64-b7bf-c9b7500b2c5f\" style=\"height: 600px; width: 1000px;\" class=\"plotly-graph-div\"></div><script type=\"text/javascript\">require([\"plotly\"], function(Plotly) { window.PLOTLYENV=window.PLOTLYENV || {};window.PLOTLYENV.BASE_URL=\"https://plot.ly\";Plotly.newPlot(\"a93d9e87-69c9-4d64-b7bf-c9b7500b2c5f\", [{\"autocolorscale\": false, \"colorbar\": {\"title\": \"Medals\"}, \"colorscale\": [[0, \"rgb(5, 10, 172)\"], [0.35, \"rgb(40, 60, 190)\"], [0.5, \"rgb(70, 100, 245)\"], [0.6, \"rgb(90, 120, 245)\"], [0.7, \"rgb(106, 137, 247)\"], [1, \"rgb(220, 220, 220)\"]], \"locations\": [\"USA\", \"URS\", \"GER\", \"GBR\", \"FRA\", \"ITA\", \"SWE\", \"CAN\", \"AUS\", \"RUS\", \"HUN\", \"NED\", \"NOR\", \"GDR\", \"CHN\", \"JPN\", \"FIN\", \"SUI\", \"ROU\", \"KOR\", \"DEN\", \"FRG\", \"POL\", \"ESP\", \"TCH\", \"BRA\", \"BEL\", \"AUT\", \"CUB\", \"YUG\", \"BUL\", \"EUN\", \"ARG\", \"GRE\", \"NZL\", \"UKR\", \"IND\", \"JAM\", \"CRO\", \"CZE\", \"BLR\", \"RSA\", \"PAK\", \"MEX\", \"KEN\", \"NGR\", \"TUR\", \"SRB\", \"KAZ\", \"IRI\", \"PRK\", \"SCG\", \"URU\", \"LTU\", \"ETH\", \"EST\", \"TPE\", \"SLO\", \"SVK\", \"AZE\", \"POR\", \"INA\", \"BAH\", \"IRL\", \"LAT\", \"UZB\", \"GEO\", \"CHI\", \"TTO\", \"THA\", \"ANZ\", \"COL\", \"EGY\", \"MGL\", \"MAR\", \"GHA\", \"CMR\", \"ZIM\", \"ALG\", \"PAR\", \"ISL\", \"ARM\", \"MAS\", \"PER\", \"VEN\", \"MNE\", \"FIJ\", \"TUN\", \"BOH\", \"PHI\", \"PUR\", \"SGP\", \"ISR\", \"LIE\", \"MDA\", \"LUX\", \"HAI\", \"UGA\", \"DOM\", \"KSA\", \"WIF\", \"QAT\", \"IOA\", \"CRC\", \"NAM\", \"VIE\", \"LIB\", \"TJK\", \"HKG\", \"CIV\", \"BRN\", \"SYR\", \"KGZ\", \"PAN\", \"AFG\", \"TAN\", \"GRN\", \"ZAM\", \"NIG\", \"BDI\", \"ECU\", \"KUW\", \"SRI\", \"UAE\", \"UAR\", \"SUR\", \"MOZ\", \"BAR\", \"GUY\", \"BER\", \"IRQ\", \"ISV\", \"KOS\", \"AHO\", \"GUA\", \"JOR\", \"TOG\", \"BOT\", \"MON\", \"TGA\", \"GAB\", \"SUD\", \"MRI\", \"NEP\", \"SEN\", \"CYP\", \"DJI\", \"ERI\", \"MKD\"], \"marker\": {\"line\": {\"color\": \"rgb(180,180,180)\", \"width\": 0.5}}, \"reversescale\": true, \"text\": [\"USA\", \"URS\", \"GER\", \"GBR\", \"FRA\", \"ITA\", \"SWE\", \"CAN\", \"AUS\", \"RUS\", \"HUN\", \"NED\", \"NOR\", \"GDR\", \"CHN\", \"JPN\", \"FIN\", \"SUI\", \"ROU\", \"KOR\", \"DEN\", \"FRG\", \"POL\", \"ESP\", \"TCH\", \"BRA\", \"BEL\", \"AUT\", \"CUB\", \"YUG\", \"BUL\", \"EUN\", \"ARG\", \"GRE\", \"NZL\", \"UKR\", \"IND\", \"JAM\", \"CRO\", \"CZE\", \"BLR\", \"RSA\", \"PAK\", \"MEX\", \"KEN\", \"NGR\", \"TUR\", \"SRB\", \"KAZ\", \"IRI\", \"PRK\", \"SCG\", \"URU\", \"LTU\", \"ETH\", \"EST\", \"TPE\", \"SLO\", \"SVK\", \"AZE\", \"POR\", \"INA\", \"BAH\", \"IRL\", \"LAT\", \"UZB\", \"GEO\", \"CHI\", \"TTO\", \"THA\", \"ANZ\", \"COL\", \"EGY\", \"MGL\", \"MAR\", \"GHA\", \"CMR\", \"ZIM\", \"ALG\", \"PAR\", \"ISL\", \"ARM\", \"MAS\", \"PER\", \"VEN\", \"MNE\", \"FIJ\", \"TUN\", \"BOH\", \"PHI\", \"PUR\", \"SGP\", \"ISR\", \"LIE\", \"MDA\", \"LUX\", \"HAI\", \"UGA\", \"DOM\", \"KSA\", \"WIF\", \"QAT\", \"IOA\", \"CRC\", \"NAM\", \"VIE\", \"LIB\", \"TJK\", \"HKG\", \"CIV\", \"BRN\", \"SYR\", \"KGZ\", \"PAN\", \"AFG\", \"TAN\", \"GRN\", \"ZAM\", \"NIG\", \"BDI\", \"ECU\", \"KUW\", \"SRI\", \"UAE\", \"UAR\", \"SUR\", \"MOZ\", \"BAR\", \"GUY\", \"BER\", \"IRQ\", \"ISV\", \"KOS\", \"AHO\", \"GUA\", \"JOR\", \"TOG\", \"BOT\", \"MON\", \"TGA\", \"GAB\", \"SUD\", \"MRI\", \"NEP\", \"SEN\", \"CYP\", \"DJI\", \"ERI\", \"MKD\"], \"z\": [5637, 2503, 2165, 2068, 1777, 1637, 1536, 1352, 1320, 1165, 1135, 1040, 1033, 1005, 989, 913, 900, 691, 653, 638, 597, 586, 565, 489, 488, 475, 468, 450, 409, 390, 342, 279, 274, 255, 228, 199, 197, 157, 149, 144, 139, 131, 121, 110, 106, 99, 95, 85, 77, 68, 67, 64, 63, 61, 53, 50, 49, 48, 47, 44, 41, 41, 40, 35, 35, 34, 32, 32, 32, 30, 29, 28, 27, 26, 23, 23, 22, 22, 17, 17, 17, 16, 16, 15, 15, 14, 13, 13, 12, 10, 9, 9, 9, 9, 8, 8, 7, 7, 7, 6, 5, 5, 5, 4, 4, 4, 4, 4, 4, 3, 3, 3, 3, 3, 2, 2, 2, 2, 2, 2, 2, 2, 2, 2, 2, 2, 2, 1, 1, 1, 1, 1, 1, 1, 1, 1, 1, 1, 1, 1, 1, 1, 1, 1, 1, 1, 1, 1, 1], \"type\": \"choropleth\", \"uid\": \"53561952-e854-11e8-abf7-0242ac130002\"}], {\"autosize\": true, \"geo\": {\"landcolor\": \"#DFDFD0\", \"projection\": {\"type\": \"miller\"}, \"showcoastlines\": false, \"showframe\": false, \"showland\": true}, \"height\": 600, \"title\": \"How Many Olympic Medals Each Country Has Won\", \"width\": 1000}, {\"showLink\": true, \"linkText\": \"Export to plot.ly\"})});</script>"
          },
          "metadata": {}
        },
        {
          "output_type": "display_data",
          "data": {
            "text/plain": "<Figure size 1440x1080 with 0 Axes>"
          },
          "metadata": {}
        }
      ]
    },
    {
      "metadata": {
        "trusted": true,
        "_uuid": "6d774a7d7a1f69b38ce8363ed2cf6f91cf3ac742",
        "_kg_hide-input": true
      },
      "cell_type": "code",
      "source": "most30MedalCountries = dataMedal.Team.value_counts()[:31]\ndata = [go.Bar(\n        x = most30MedalCountries.index,\n        y = most30MedalCountries.values,\n       \n)]\n\nlayout = go.Layout(\n    title = '30 Countries Have Most Medals' )\n\nfig = go.Figure(data=data, layout = layout)\niplot(fig)",
      "execution_count": null,
      "outputs": []
    },
    {
      "metadata": {
        "trusted": true,
        "_uuid": "622166bec314cffcddd738773c8e39587884012c",
        "scrolled": true,
        "_kg_hide-input": true
      },
      "cell_type": "code",
      "source": "dataOfGoldMedals = dataMedal[dataMedal.Medal == 'Gold']\ndataOfSilverMedals = dataMedal[dataMedal.Medal == 'Silver']\ndataOfBronzeMedals = dataMedal[dataMedal.Medal == 'Bronze']\n\ntrace1 = go.Scatter(x=dataOfGoldMedals.Team.value_counts().index[:21],\n                  y=dataOfGoldMedals.Team.value_counts().values[:21],\n                  line = dict(color=\"yellow\", width=4),\n                  name = \"Number of Gold Medals\",\n                   xaxis = 'x3',\n                   yaxis = 'y3')\ntrace2 = go.Scatter(x=dataOfSilverMedals.Team.value_counts().index[:21],\n                  y=dataOfSilverMedals.Team.value_counts().values[:21],\n                  line = dict(color=\"gray\", width=4),\n                  name = \"Number of Silver Medals\",\n                   xaxis = 'x1',\n                   yaxis = 'y1')\ntrace3 = go.Scatter(x=dataOfBronzeMedals.Team.value_counts().index[:21],\n                  y=dataOfBronzeMedals.Team.value_counts().values[:21],\n                  line = dict(color=\"red\", width=4),\n                  name = \"Number of Bronze Medals\",\n                   xaxis = 'x2',\n                   yaxis = 'y2')\ndata = [trace1, trace2, trace3]\nlayout = go.Layout(\n    xaxis=dict(\n        domain=[0, 0.45],\n        anchor='y1'\n    ),\n    yaxis=dict(\n        domain=[0, 0.45],\n        anchor='x1'\n    ),\n    xaxis2=dict(\n        domain=[0.55, 1],\n        anchor='y2'\n    ),\n    xaxis3=dict(\n        domain=[0, 0.45],\n        anchor='y3'\n    ),\n    yaxis2=dict(\n        domain=[0, 0.45],\n        anchor='x2'\n    ),\n    yaxis3=dict(\n        domain=[0.55, 1]\n    )\n    )\nfig = go.Figure(data=data, layout=layout)\niplot(fig)",
      "execution_count": null,
      "outputs": []
    },
    {
      "metadata": {
        "_uuid": "60a75d986f6b2b0cb38e0279976efdeef246ccb2"
      },
      "cell_type": "markdown",
      "source": "Apparently United States of Americe is the most successful team in Olympics. Soviet Union and Germany follows USA respectively. Well, is USA most successful team in all sports? Let's find out."
    },
    {
      "metadata": {
        "trusted": true,
        "_uuid": "1a13e18cc61c2778f5630500cd3a049c106dc52c",
        "_kg_hide-input": false
      },
      "cell_type": "code",
      "source": "print(df.Sport.unique())\nprint(len(df.Sport.unique()))",
      "execution_count": null,
      "outputs": []
    },
    {
      "metadata": {
        "_uuid": "9ab0ca91d1a780184f1bcdc2c78b82c6327929ad"
      },
      "cell_type": "markdown",
      "source": "Let's look some major sports;\n    - Athletics\n    - Gymnastics\n    - Swimming\n    - Shooting\n    - Cycling\n    - Wrestling\n    - Football\n    - Basketball\n    - Sailing\n    - Rowing\n    - Fencing\n    - Boxing\n    - Weightlifting\n    - Archery"
    },
    {
      "metadata": {
        "_uuid": "1612ee9471fb785a0086a158f5dabe54ae1ed1df"
      },
      "cell_type": "markdown",
      "source": "<a id=2></a><br>\n## <font color=\"red\">ATHLETICS</font>\n"
    },
    {
      "metadata": {
        "_uuid": "baace9762b22612d531f0bc1d0167a71a6b0459d"
      },
      "cell_type": "markdown",
      "source": "Athletics is a collection of sporting events that involve competitive running, jumping, throwing, and walking. The most common types of athletics competitions are track and field, road running, cross country running, and race walking. <br>\n(Wikipedia)\n<br>\n![](https://www.telegraph.co.uk/content/dam/athletics/2017/07/21/TELEMMGLPICT000135405975_trans_NvBQzQNjv4BqpVlberWd9EgFPZtcLiMQfyf2A9a6I9YchsjMeADBa08.jpeg?imwidth=450)\n"
    },
    {
      "metadata": {
        "trusted": true,
        "_uuid": "4a886d2fcdad5f4d23cebd269bcaf63bd5c6fe6f",
        "_kg_hide-input": true
      },
      "cell_type": "code",
      "source": "top10Athletics = dataMedal[dataMedal.Sport == \"Athletics\"].Team.value_counts()[:11]\nplt.figure(figsize=(20,6))\nsns.barplot(x=top10Athletics.values, y=top10Athletics.index)\nplt.xlabel(\"Total Medals\")\nplt.title(\"Top 10 Countries Have Most Medals in Athletics\")\nplt.xticks(np.arange(0,1150,50))\nplt.show()",
      "execution_count": null,
      "outputs": []
    },
    {
      "metadata": {
        "trusted": true,
        "_uuid": "e49a6b8bd9f807c64d4a10fddb7d77fbd8de86c6",
        "_kg_hide-input": true
      },
      "cell_type": "code",
      "source": "top10AthleticsGold = dataMedal[(dataMedal.Sport == \"Athletics\") & (dataMedal.Medal == \"Gold\")].Team.value_counts()[:11]\nsns.set(style=\"dark\", context=\"talk\")\nplt.figure(figsize=(20,6))\nsns.barplot(x=top10AthleticsGold.values, y=top10AthleticsGold.index, palette = \"YlOrBr_r\")\nplt.xlabel(\"Total Gold Medals\")\nplt.title(\"Top 10 Countries Have Most Gold Medals in Athletics\")\nplt.xticks(np.arange(0,650,50))\nplt.show()",
      "execution_count": null,
      "outputs": []
    },
    {
      "metadata": {
        "_uuid": "4505fc7e26e24c4770ff730e40421da22fa596ec"
      },
      "cell_type": "markdown",
      "source": "Well, it seems Team USA is really fast!"
    },
    {
      "metadata": {
        "_uuid": "4c43f9c04b93318ea5e75c4d5d274e8c4dd5a859"
      },
      "cell_type": "markdown",
      "source": "<a id=3></a><br>\n## <font color=\"red\">GYMNASTICS</font>\n"
    },
    {
      "metadata": {
        "_uuid": "b840e12a41137ca1493061fbe196f716346f0bef"
      },
      "cell_type": "markdown",
      "source": "Gymnastics is a sport that requires balance, strength, flexibility, agility, coordination and endurance. The movements involved in gymnastics contribute to the development of the arms, legs, shoulders, back, chest and abdominal muscle groups. Alertness, precision, daring, self-confidence and self-discipline are mental traits that can also be developed through gymnastics. Gymnastics evolved from exercises used by the ancient Greeks that included skills for mounting and dismounting a horse, and from circus performance skills.\n(Wikipedia)\n<img src=\"https://timedotcom.files.wordpress.com/2016/08/biles-simone1.jpg?quality=85\" alt=\"Drawing\" style=\"width: 600px;\"/>\n"
    },
    {
      "metadata": {
        "trusted": true,
        "_uuid": "c46f640407be89a941ab5ca8012dd05705e03daa",
        "_kg_hide-input": true
      },
      "cell_type": "code",
      "source": "top10Gymnastics = dataMedal[dataMedal.Sport == \"Gymnastics\"].Team.value_counts()[:11]\nplt.figure(figsize=(20,6))\nsns.barplot(x=top10Gymnastics.index,y=top10Gymnastics.values,palette = \"rocket\")\nplt.title(\"Top 10 Countries Have Most Medals in Gymnastics\")\nplt.ylabel(\"Total Medals\")\nplt.xticks(rotation = 45, ha=\"right\")\nplt.show()\n",
      "execution_count": null,
      "outputs": []
    },
    {
      "metadata": {
        "trusted": true,
        "_uuid": "aae74f8d613aa32c1b952e714e4c6281905ec079",
        "_kg_hide-input": true
      },
      "cell_type": "code",
      "source": "top10GymnasticsGold = dataMedal[(dataMedal.Sport == \"Gymnastics\") & (dataMedal.Medal == \"Gold\")].Team.value_counts()[:11]\nplt.figure(figsize=(20,6))\nsns.barplot(x=top10GymnasticsGold.index, y=top10GymnasticsGold.values, palette = \"BrBG\")\nplt.ylabel(\"Total Gold Medals\")\nplt.xticks(rotation=40, ha=\"right\")\nplt.title(\"Top 10 Countries Have Most Gold Medals in Gymnastics\")\nplt.show()",
      "execution_count": null,
      "outputs": []
    },
    {
      "metadata": {
        "_uuid": "2683bea71c0b2023d5e4c7b014e45cb492645a20"
      },
      "cell_type": "markdown",
      "source": "Not suprisingly Soviet Union were dominating Gymnastics. Especially during Cold War USSR concentrate on create cultural dominance in Eastern Bloc. They invest to gymnastics and they had talented gymnasts and coach as well. Then gymnasitics had been popular. <br>\n\nAn excerpt from a 2014 Yana Kudryavtseva (rythmic gymnast from Russia) interview:\n\n**Q:** “I have another question about the Russian team. Why do you think it is so dominant?”\n\n**Kudryavtseva:** “We have excellent coaches, choreographers and facilities in Novogorsk to help us prepare for competitions. The training facility is great and it’s staffed with doctors and masseuses. It would have been embarrassing if we didn’t win given the resources that we have. I don’t think any other country has such coaches or facilities.\n"
    },
    {
      "metadata": {
        "_uuid": "46c73188ccc79d761bcdbc64bdedf386e4f95faf"
      },
      "cell_type": "markdown",
      "source": "<a id=\"3\"></a><br>\n## <font color=\"red\">SWIMMING</font>"
    },
    {
      "metadata": {
        "_uuid": "2667d79dba918bda9c1a98621b6e6d15c7f08a8f"
      },
      "cell_type": "markdown",
      "source": "Swimming is an individual or team sport that requires the use of one's arms and legs to move the body through water. The sport takes place in pools or open water (e.g., in a sea or lake). Competitive swimming is one of the most popular Olympic sports with varied distance events in butterfly, backstroke, breaststroke, freestyle, and individual medley. In addition to these individual events, four swimmers can take part in either a freestyle or medley relay. <br>\n(Wikipedia)\n<img src=\"https://www.yourswimlog.com/wp-content/uploads/2016/08/Great-Britain-Sees-Explosion-of-Interest-in-Swimming-During-Olympics.jpg\" width=\"600px\"/>"
    },
    {
      "metadata": {
        "_kg_hide-input": true,
        "trusted": true,
        "_uuid": "da196b87bbe37bddb741b15640380c254a61eaf5"
      },
      "cell_type": "code",
      "source": "top10Swimming = dataMedal[dataMedal.Sport == \"Swimming\"].Team.value_counts()[:11]\nplt.figure(figsize=(20,6))\nsns.barplot(x=top10Swimming.index,y=top10Swimming.values,palette = \"PuBu_r\")\nplt.title(\"Top 10 Countries Have Most Medals in Swimming\")\nplt.ylabel(\"Total Medals\")\nplt.xticks(rotation = 45, ha=\"right\")\nplt.show()",
      "execution_count": null,
      "outputs": []
    },
    {
      "metadata": {
        "_kg_hide-input": true,
        "trusted": true,
        "_uuid": "f9fa009f3ec941b3c0a5e010b3b03669e41bfc73"
      },
      "cell_type": "code",
      "source": "top10SwimmingGold = dataMedal[(dataMedal.Sport == \"Swimming\") & (dataMedal.Medal == \"Gold\")].Team.value_counts()[:11]\nplt.figure(figsize=(20,6))\nsns.barplot(x=top10SwimmingGold.index,y=top10SwimmingGold.values,palette = \"YlOrRd_r\")\nplt.title(\"Top 10 Countries Have Most Gold Medals in Swimming\")\nplt.ylabel(\"Total Gold Medals\")\nplt.xticks(rotation = 45, ha=\"right\")\nplt.show()",
      "execution_count": null,
      "outputs": []
    },
    {
      "metadata": {
        "_uuid": "6c03bea3d50c1ac7026ec01c5e86bb4f56e5fde1"
      },
      "cell_type": "markdown",
      "source": "Americans know how they swim! <br>\nSwimming is very popular in the US and there are 10.4 million residential and 309,000 public swimming pools in the United States, according to the Association of Pool & Spa Professionals (APSP). "
    },
    {
      "metadata": {
        "_uuid": "fa743c271431c52998b9d847309160be4c9d25a2"
      },
      "cell_type": "markdown",
      "source": "<a id=\"4\"></a><br>\n## <font color=\"red\">SHOOTING</font>"
    },
    {
      "metadata": {
        "_uuid": "2fd07d701e0d075bca7acfe44e99593eb06528cf"
      },
      "cell_type": "markdown",
      "source": "Shooting is the act or process of discharging a projectile from a ranged weapon. Shooting has inspired competition, and in several countries rifle clubs started to form in the 19th century. Soon international shooting events evolved, including shooting at the Summer and Winter Olympics.\n<img src=\"https://www.teamusa.org/-/media/TeamUSA/Shooting/Craft_Morgan/craft_morgan_091315_800x375.jpg?h=375&w=800&la=en&hash=67D42EA72774111BC9193827BD84C282BB39E1A4\" width=\"600px\"/>"
    },
    {
      "metadata": {
        "_kg_hide-input": true,
        "trusted": true,
        "_uuid": "c7bbdaf7e78bb69073f08f2e7674a4a642ecd57e"
      },
      "cell_type": "code",
      "source": "top10Shooting = dataMedal[dataMedal.Sport == \"Shooting\"].Team.value_counts()[:11]\nplt.figure(figsize=(20,6))\nsns.barplot(x=top10Shooting.index,y=top10Shooting.values,palette = \"Reds_r\")\nplt.title(\"Top 10 Countries Have Most Medals in Shooting\")\nplt.ylabel(\"Total Medals\")\nplt.xticks(rotation = 45, ha=\"right\")\nplt.show()",
      "execution_count": null,
      "outputs": []
    },
    {
      "metadata": {
        "_kg_hide-input": true,
        "trusted": true,
        "_uuid": "a398a5f3cc52a61116c0219d7ea8691261dffc37"
      },
      "cell_type": "code",
      "source": "top10ShootingGold = dataMedal[(dataMedal.Sport == \"Shooting\") & (dataMedal.Medal == \"Gold\")].Team.value_counts()[:11]\nplt.figure(figsize=(20,6))\nsns.barplot(x=top10ShootingGold.index,y=top10ShootingGold.values,palette = \"BuPu_r\")\nplt.title(\"Top 10 Countries Have Most Gold Medals in Shooting\")\nplt.ylabel(\"Total Gold Medals\")\nplt.xticks(rotation = 45, ha=\"right\")\nplt.show()",
      "execution_count": null,
      "outputs": []
    },
    {
      "metadata": {
        "_uuid": "617565e95c3245a4ac5c4fb2eb2c81c5940238b9"
      },
      "cell_type": "markdown",
      "source": "<a id=\"5\"></a><br>\n## <font color = \"red\">CYCLING</font>"
    },
    {
      "metadata": {
        "_uuid": "1cf0d819f3f326fb025796c7c9cbb00902b4182d"
      },
      "cell_type": "markdown",
      "source": "Cycling has been contested at every Summer Olympic Games since the birth of the modern Olympic movement at the 1896 Summer Olympics, at which a road race and five track events were held. Mountain bike racing entered the Olympic programme at the Atlanta Olympics, followed by BMX racing in 2008. <br>\n(Wikipedia)<br>\n\n<img src=\"https://www.sportreviews.com/en/wp-content/uploads/2016/03/Olympics-Day-10-Cycling-Track-4XZsSsu7xhdl.jpg\" width=\"600px\"/>"
    },
    {
      "metadata": {
        "_kg_hide-input": true,
        "trusted": true,
        "_uuid": "f2d46e6001409ed4560e02b3755c39a054177352"
      },
      "cell_type": "code",
      "source": "top10Cycling = dataMedal[dataMedal.Sport == \"Cycling\"].Team.value_counts()[:11]\nplt.figure(figsize=(20,6))\nsns.barplot(x=top10Cycling.index,y=top10Cycling.values,palette = \"Reds_r\")\nplt.title(\"Top 10 Countries Have Most Medals in Shooting\")\nplt.ylabel(\"Total Medals\")\nplt.xticks(rotation = 45, ha=\"right\")\nplt.show()",
      "execution_count": null,
      "outputs": []
    },
    {
      "metadata": {
        "_kg_hide-input": true,
        "trusted": true,
        "_uuid": "d5f7fa15b551d83277b81c99446894714b309308"
      },
      "cell_type": "code",
      "source": "top10CyclingGold = dataMedal[(dataMedal.Sport == \"Cycling\") & (dataMedal.Medal == \"Gold\")].Team.value_counts()[:11]\nplt.figure(figsize=(20,6))\nsns.barplot(x=top10CyclingGold.index,y=top10CyclingGold.values,palette = \"Oranges_r\")\nplt.title(\"Top 10 Countries Have Most Gold Medals in Cycling\")\nplt.ylabel(\"Total Gold Medals\")\nplt.xticks(rotation = 45, ha=\"right\")\nplt.show()",
      "execution_count": null,
      "outputs": []
    },
    {
      "metadata": {
        "_uuid": "716666cb0d3071805c69381972bb8954efa48813"
      },
      "cell_type": "markdown",
      "source": "We can see USA is not one of the major player in cycling. UK, France and Italy show themselves. Altought UK has most of the medals Italy has most of the gold medals with 70 and France has second place with 69 gold medals. Also Great Britain has 59 gold medals."
    },
    {
      "metadata": {
        "_uuid": "bb1d6ccd3b9e4a9bddba89438abdc12752a1c0d0"
      },
      "cell_type": "markdown",
      "source": "<a id=\"6\"></a><br>\n## <font color=\"red\">WRESTLING</font>"
    },
    {
      "metadata": {
        "_uuid": "9c8e9be75dede40712a66f4475b01de8378449ae"
      },
      "cell_type": "markdown",
      "source": "Wrestling is a combat sport involving grappling type techniques such as clinch fighting, throws and takedowns, joint locks, pins and other grappling holds. The sport can either be theatrical for entertainment or genuinely competitive. \nWrestling had been contested at the Summer Olympic Games since the sport was introduced in the ancient Olympic Games in 708 BC. When the modern Olympic Games resumed in Athens in 1896, wrestling (in the form of Greco-Roman wrestling) became a focus of the Games, with the exception of the 1900 Summer Olympics when wrestling did not appear on the program. Freestyle wrestling and weight classes both made their first appearance in 1904. The women's competition was introduced in 2004.\n<img src=\"https://statics.sportskeeda.com/wp-content/uploads/2016/08/olympic_wrestlers-1470212200-800.jpg\" width=\"600px\">"
    },
    {
      "metadata": {
        "_kg_hide-input": true,
        "trusted": true,
        "_uuid": "2b8d1f369da1c95003e42a3a9e31ff83c0915cbe"
      },
      "cell_type": "code",
      "source": "top10Wrestling = dataMedal[dataMedal.Sport == \"Wrestling\"].Team.value_counts()[:11]\nplt.figure(figsize=(20,6))\nsns.barplot(x=top10Wrestling.index,y=top10Wrestling.values,palette = \"Spectral\")\nplt.title(\"Top 10 Countries Have Most Medals in Wrestling\")\nplt.ylabel(\"Total Medals\")\nplt.xticks(rotation = 45, ha=\"right\")\nplt.show()",
      "execution_count": null,
      "outputs": []
    },
    {
      "metadata": {
        "_kg_hide-input": true,
        "trusted": true,
        "_uuid": "e424692c6b69f8370f5eaf9ae8f10266e07b8c77"
      },
      "cell_type": "code",
      "source": "top10WrestlingGold = dataMedal[(dataMedal.Sport == \"Wrestling\") & (dataMedal.Medal == \"Gold\")].Team.value_counts()[:11]\nplt.figure(figsize=(20,6))\nsns.barplot(x=top10WrestlingGold.index,y=top10WrestlingGold.values,palette = \"Greens_r\")\nplt.title(\"Top 10 Countries Have Most Gold Medals in Wrestling\")\nplt.ylabel(\"Total Gold Medals\")\nplt.xticks(rotation = 45, ha=\"right\")\nplt.show()",
      "execution_count": null,
      "outputs": []
    },
    {
      "metadata": {
        "_uuid": "9ec5b48be4e183eee44c71db5e16171d0478e27e"
      },
      "cell_type": "markdown",
      "source": "In the total the US has 128 and USSR(Russia is not include) has 116 medals. But USSR(Russia is not include) has 62 and USA has 52 gold medals. Also Japan has 32, Turkey and Russia both have 29 gold medals in wrestling."
    },
    {
      "metadata": {
        "_uuid": "0a4c71de090b746bc6ca9469afc1a277b17f2d46"
      },
      "cell_type": "markdown",
      "source": "<a id=\"7\"></a><br>\n## <font color=\"red\">FOOTBALL</font>"
    },
    {
      "metadata": {
        "_uuid": "82ddf6836e0d15593221bb8505945333526a9569"
      },
      "cell_type": "markdown",
      "source": "Association football has been included in every Summer Olympic Games as a men's competition sport, except 1896 and 1932. Women's football was added to the official program in 1996.\n![](https://statics.sportskeeda.com/wp-content/uploads/2016/07/neymar-1467834898-800.jpg)"
    },
    {
      "metadata": {
        "_kg_hide-input": true,
        "trusted": true,
        "_uuid": "48a654dae5fc05c822fce6f854d641b3658e3a04"
      },
      "cell_type": "code",
      "source": "top10Football = dataMedal[dataMedal.Sport == \"Football\"].Team.value_counts()[:11]\nplt.figure(figsize=(20,6))\nsns.barplot(x=top10Football.index,y=top10Football.values,palette = \"PRGn_r\")\nplt.title(\"Top 10 Countries Have Most Medals in Football\")\nplt.ylabel(\"Total Medals\")\nplt.xticks(rotation = 45, ha=\"right\")\nplt.show()",
      "execution_count": null,
      "outputs": []
    },
    {
      "metadata": {
        "_kg_hide-input": true,
        "trusted": true,
        "_uuid": "edb472e37985bad02a13981cebe3a19fdc9ee4ad"
      },
      "cell_type": "code",
      "source": "top10FootballGold = dataMedal[(dataMedal.Sport == \"Football\") & (dataMedal.Medal == \"Gold\")].Team.value_counts()[:11]\nplt.figure(figsize=(20,6))\nsns.barplot(x=top10FootballGold.index,y=top10FootballGold.values,palette = \"RdBu\")\nplt.title(\"Top 10 Countries Have Most Gold Medals in Football\")\nplt.ylabel(\"Total Gold Medals\")\nplt.xticks(rotation = 45, ha=\"right\")\nplt.show()",
      "execution_count": null,
      "outputs": []
    },
    {
      "metadata": {
        "_uuid": "529d5e88938aacdba333a2ebed6d59e966eba165"
      },
      "cell_type": "markdown",
      "source": "As we can see Brazil has most of the medals. OK, is not surprise but when we can see graph of gold medals we can not see Brazil! Because Brazil has 136 medals in total and only 17 of them are gold, they have 89 silver 34 bronze medals. And we can see USA has most of the gold medals with 66, again!"
    },
    {
      "metadata": {
        "_uuid": "05ccb8540f1ffc29a619f4ae8ca307e7827aaaa1"
      },
      "cell_type": "markdown",
      "source": "<a id=\"8\"></a><br>\n## <font color=\"red\">BASKETBALL</font>"
    },
    {
      "metadata": {
        "_uuid": "1b682b749c5c870e65bb907d52c7f005b658a232"
      },
      "cell_type": "markdown",
      "source": "Basketball at the Summer Olympics. Basketball at the Summer Olympics has been a sport for men consistently since 1936. Prior to its inclusion as a medal sport, basketball was held as a demonstration event in 1904. Women's basketball made its debut in the Summer Olympics in 1976.\n<img src=\"http://images.performgroup.com/di/library/omnisport/37/79/lebronjames-cropped_17fabx5swezzz1ua4fcx8vx4yj.jpg?t=1714121451&w=960&quality=70\" width=\"600px\"/>"
    },
    {
      "metadata": {
        "_kg_hide-input": true,
        "trusted": true,
        "_uuid": "f2fea436c83e4e70a4c1d4c68ea8dc2f48088b25"
      },
      "cell_type": "code",
      "source": "top10Basketball = dataMedal[dataMedal.Sport == \"Basketball\"].NOC.value_counts()[:11]\nplt.figure(figsize=(20,6))\nsns.barplot(x=top10Basketball.index,y=top10Basketball.values,palette = \"RdBu_r\")\nplt.title(\"Top 10 Countries Have Most Medals in Basketball\")\nplt.ylabel(\"Total Medals\")\nplt.xticks(rotation = 45, ha=\"right\")\nplt.show()",
      "execution_count": null,
      "outputs": []
    },
    {
      "metadata": {
        "_kg_hide-input": true,
        "trusted": true,
        "_uuid": "97f3b7751a55880ef0d2ed7d63f173fe9440a8aa"
      },
      "cell_type": "code",
      "source": "top5BasketballGold = dataMedal[(dataMedal.Sport == \"Basketball\") & (dataMedal.Medal == \"Gold\")].NOC.value_counts()[:6]\nplt.figure(figsize=(20,6))\nsns.barplot(x=top5BasketballGold.index,y=top5BasketballGold.values,palette = \"Reds_r\")\nplt.title(\"Top 5 Countries Have Most Gold Medals in Basketball\")\nplt.ylabel(\"Total Gold Medals\")\nplt.xticks(rotation = 45, ha=\"right\")\nplt.show()",
      "execution_count": null,
      "outputs": []
    },
    {
      "metadata": {
        "_uuid": "1cf4fe415eeba54f041a7a8203d5336ebd55ba28"
      },
      "cell_type": "markdown",
      "source": "USA and NBA. There is no need to say anything."
    },
    {
      "metadata": {
        "_uuid": "ea035ef578a524d5236e5640f7f11ac125abfd8f"
      },
      "cell_type": "markdown",
      "source": "<a id=\"9\"></a><br>\n## <font color=\"red\">SAILING</font>"
    },
    {
      "metadata": {
        "_uuid": "271a491ec43979fe5812de5c5d63176c0a34b18d"
      },
      "cell_type": "markdown",
      "source": "Sailing (also known as yachting until 2000) has been one of the Olympic sports since the Games of the I Olympiad, held in Athens, Greece, in 1896. Despite being scheduled in the first Olympic program, the races were canceled due to severe weather conditions. Apart from the 1904 Summer Olympics, sailing has been present in every edition of the Olympic Games. <br>\n(Wikipedia) <br>\n\n<img src=\"https://images.boats.com/resize/wp/2/files/2016/04/Olympicgames-120803_003.jpg\" width=\"600px\"/>"
    },
    {
      "metadata": {
        "_kg_hide-input": true,
        "trusted": true,
        "_uuid": "2a18572755a5780f93ef4e2e12585856090a1ed7"
      },
      "cell_type": "code",
      "source": "top10Sailing = dataMedal[dataMedal.Sport == \"Sailing\"].NOC.value_counts()[:11]\nplt.figure(figsize=(20,6))\nsns.barplot(x=top10Sailing.index,y=top10Sailing.values,palette = \"BuPu_r\")\nplt.title(\"Top 10 Countries Have Most Medals in Sailing\")\nplt.ylabel(\"Total Medals\")\nplt.xticks(rotation = 45, ha=\"right\")\nplt.show()",
      "execution_count": null,
      "outputs": []
    },
    {
      "metadata": {
        "_kg_hide-input": true,
        "trusted": true,
        "_uuid": "adddb52d0238b12fd89e995866ded923c9626497"
      },
      "cell_type": "code",
      "source": "top10SailingGold = dataMedal[(dataMedal.Sport == \"Sailing\") & (dataMedal.Medal == \"Gold\")].NOC.value_counts()[:11]\nplt.figure(figsize=(20,6))\nsns.barplot(x=top10SailingGold.index,y=top10SailingGold.values,palette = \"RdPu_r\")\nplt.title(\"Top 10 Countries Have Most Gold Medals in Sailing\")\nplt.ylabel(\"Total Medals\")\nplt.xticks(rotation = 45, ha=\"right\")\nplt.show()",
      "execution_count": null,
      "outputs": []
    },
    {
      "metadata": {
        "_uuid": "f5a4e8e7465555ccbd340dfa1016a990b3cf3252"
      },
      "cell_type": "markdown",
      "source": "<a id=\"10\"></a><br>\n## <font color=\"red\">ROWING</font>"
    },
    {
      "metadata": {
        "_uuid": "8838d7b05fca3a5e0df39c73d8dcd2b43c9d08da"
      },
      "cell_type": "markdown",
      "source": "Rowing is a sport whose origins reach back to Ancient Egyptian times. It involves propelling a boat (racing shell) on water using oars. By pushing against the water with an oar, a force is generated to move the boat. <br> \nRowing has been part of the competition since its debut in the 1900 Summer Olympics. Rowing was on the program at the 1896 Summer Olympics but was cancelled due to bad weather. Only men were allowed to compete until the women's events were introduced at the 1976 Summer Olympics in Montreal which gave national federations the incentive to support women's events and catalysed growth in women's rowing. <br> (Wikipedia)\n<br>\n<img src=\"https://cdnolympic.files.wordpress.com/2016/08/quadsculls_m_bfinal_davidjacksonphoto-782-e1497630242192.jpg?quality=100&resize=1010%2C568&strip\" width=\"600px\"/>"
    },
    {
      "metadata": {
        "_kg_hide-input": true,
        "trusted": true,
        "_uuid": "d8de30e6bae10f63700ce044ee02f5a783e5276f"
      },
      "cell_type": "code",
      "source": "top10Rowing = dataMedal[dataMedal.Sport == \"Rowing\"].Team.value_counts()[:11]\nplt.figure(figsize=(20,6))\nsns.barplot(x=top10Rowing.index,y=top10Rowing.values,palette = \"deep\")\nplt.title(\"Top 10 Countries Have Most Medals in Rowing\")\nplt.ylabel(\"Total Medals\")\nplt.xticks(rotation = 45, ha=\"right\")\nplt.show()",
      "execution_count": null,
      "outputs": []
    },
    {
      "metadata": {
        "_kg_hide-input": true,
        "trusted": true,
        "_uuid": "4b8e179fb8f24d7232546012a1900a82b17aa7e4"
      },
      "cell_type": "code",
      "source": "top10RowingGold = dataMedal[(dataMedal.Sport == \"Rowing\") & (dataMedal.Medal == \"Gold\")].Team.value_counts()[:11]\nplt.figure(figsize=(20,6))\nsns.barplot(x=top10RowingGold.index,y=top10RowingGold.values,palette = \"muted\")\nplt.title(\"Top 10 Countries Have Most Gold Medals in Rowing\")\nplt.ylabel(\"Total Gold Medals\")\nplt.xticks(rotation = 45, ha=\"right\")\nplt.show()",
      "execution_count": null,
      "outputs": []
    },
    {
      "metadata": {
        "_uuid": "44bd7edba726eeac55782235788415cf94e67c8c"
      },
      "cell_type": "markdown",
      "source": "USA seems have most gold medals in rowing with 160 but when we combine Germany, that has 95 gold medals and East Germany, has 139 gold medals. We can sey Germany has more gold medals than USA with 234 gold medals."
    },
    {
      "metadata": {
        "_uuid": "6cffe66dd494a432cdc74c8b5c8a74f4668a5e07"
      },
      "cell_type": "markdown",
      "source": "<a id=\"11\"></a><br>\n## <font color=\"red\">FENCING</font>"
    },
    {
      "metadata": {
        "_uuid": "e308d91a49cd49bbec52977b33075f9820dcdb12"
      },
      "cell_type": "markdown",
      "source": "Fencing is a group of three related combat sports. The three disciplines in modern fencing are the foil, the épée, and the sabre; winning points are made through the contact with an opponent. A fourth discipline, singlestick, appeared in the 1904 Olympics but was dropped after that, and is not a part of modern fencing. Fencing was one of the first sports to be played in the Olympics. Based on the traditional skills of swordsmanship, the modern sport arose at the end of the 19th century, with the Italian school having modified the historical European martial art of classical fencing, and the French school later refining the Italian system. There are three forms of modern fencing, each of which uses a different kind of weapon and has different rules; thus the sport itself is divided into three competitive scenes: foil, épée, and sabre. Most competitive fencers choose to specialize in one weapon only.\nFencing has been contested at every Summer Olympic Games since the birth of the modern Olympic movement at the 1896 Summer Olympics in Athens. Women's foil made its Olympic debut in Paris, during the 1924 Olympic Games. \n<br><br>\nFoil — a light thrusting weapon; the valid target is restricted to the torso; double touches are not allowed. <br>\nÉpée — a heavy thrusting weapon; the valid target area covers the entire body; double touches are allowed. <br>\nSabre — a light cutting and thrusting weapon; the valid target area includes almost everything above the waist (excluding the back of the head and the hands); double touches are not allowed.<br>\n\n<br>\n<img src=\"https://secure.i.telegraph.co.uk/multimedia/archive/02246/fencing_Eddie-Mulh_2246153b.jpg\" width=\"600px\"/>"
    },
    {
      "metadata": {
        "_kg_hide-input": true,
        "trusted": true,
        "_uuid": "2a6bd43550dbc3be09aaedea31192f6d359b8eae"
      },
      "cell_type": "code",
      "source": "top10Fencing = dataMedal[dataMedal.Sport == \"Fencing\"].NOC.value_counts()[:11]\nplt.figure(figsize=(20,6))\nsns.barplot(x=top10Fencing.index,y=top10Fencing.values,palette = \"dark\")\nplt.title(\"Top 10 Countries Have Most Medals in Fencing\")\nplt.ylabel(\"Total Medals\")\nplt.xticks(rotation = 45, ha=\"right\")\nplt.show()",
      "execution_count": null,
      "outputs": []
    },
    {
      "metadata": {
        "_kg_hide-input": true,
        "trusted": true,
        "_uuid": "b4b95570a69e640637a19cab456a914cc7586d71"
      },
      "cell_type": "code",
      "source": "top10FencingGold = dataMedal[(dataMedal.Sport == \"Fencing\") & (dataMedal.Medal == \"Gold\")].NOC.value_counts()[:11]\nplt.figure(figsize=(20,6))\nsns.barplot(x=top10FencingGold.index,y=top10FencingGold.values,palette = \"bright\")\nplt.title(\"Top 10 Countries Have Most Gold Medals in Fencing\")\nplt.ylabel(\"Total Gold Medals\")\nplt.xticks(rotation = 45, ha=\"right\")\nplt.show()",
      "execution_count": null,
      "outputs": []
    },
    {
      "metadata": {
        "_uuid": "ce6b379de333a50691a19b3c393e8bd8d3a53efb"
      },
      "cell_type": "markdown",
      "source": "Italy and France are still leader in fencing. They invented and evaluated it and it is not surprise to see them on the top."
    },
    {
      "metadata": {
        "_uuid": "3bcb97e8c466d437ec503ff2b72e4d825b82b506"
      },
      "cell_type": "markdown",
      "source": "<a id=\"12\">BOXING</a><br>\nBoxing is a combat sport in which two people, usually wearing protective gloves, throw punches at each other for a predetermined amount of time in a boxing ring. Boxing has been contested at every Summer Olympic Games since its introduction to the program at the 1904 Summer Olympics, except for the 1912 Summer Olympics in Stockholm, because Swedish law banned the sport at the time. The 2008 Summer Olympics were the final games with boxing as a male only event. Since the 2012 Summer Olympics, women's boxing is part of the program. <br>\n<img src=\"https://resources.stuff.co.nz/content/dam/images/1/d/m/0/7/w/image.related.StuffLandscapeSixteenByNine.710x400.1powrf.png/1525374038063.jpg\" width=\"600px\"/>"
    },
    {
      "metadata": {
        "_kg_hide-input": true,
        "trusted": true,
        "_uuid": "bb47723ffb0c10208c7eae30fb892da14104387e"
      },
      "cell_type": "code",
      "source": "top10Boxing = dataMedal[dataMedal.Sport == \"Boxing\"].Team.value_counts()[:11]\nplt.figure(figsize=(20,6))\nsns.barplot(x=top10Boxing.index,y=top10Boxing.values,palette = \"RdPu_r\")\nplt.title(\"Top 10 Countries Have Most Medals in Boxing\")\nplt.ylabel(\"Total Medals\")\nplt.xticks(rotation = 45, ha=\"right\")\nplt.show()",
      "execution_count": null,
      "outputs": []
    },
    {
      "metadata": {
        "_kg_hide-input": true,
        "trusted": true,
        "_uuid": "43e0ca92d0f5552622cb5cc6928d9ef8a2d6a726"
      },
      "cell_type": "code",
      "source": "top10BoxingGold = dataMedal[(dataMedal.Sport == \"Boxing\") & (dataMedal.Medal == \"Gold\")].Team.value_counts()[:11]\nplt.figure(figsize=(20,6))\nsns.barplot(x=top10BoxingGold.index,y=top10BoxingGold.values,palette = \"Reds_r\")\nplt.title(\"Top 10 Countries Have Most Gold Medals in Boxing\")\nplt.ylabel(\"Total Gold Medals\")\nplt.xticks(rotation = 45, ha=\"right\")\nplt.show()",
      "execution_count": null,
      "outputs": []
    },
    {
      "metadata": {
        "_uuid": "8972170ebed83057fd8ac01567031849de296023"
      },
      "cell_type": "markdown",
      "source": "United States has 113 Medals with 50 gold and Cuba follow USA with 37 gold medals and 73 Medals in total."
    },
    {
      "metadata": {
        "_uuid": "d1cdfd0acb714f740f7df7d8db91f4151d720c82"
      },
      "cell_type": "markdown",
      "source": "<a id=\"14\"></a><br>\n## <font color=\"red\">WEIGHTLIFTING</font>"
    },
    {
      "metadata": {
        "_uuid": "93bf594843a8ece4f0ea7fba8584feb4e04445d4"
      },
      "cell_type": "markdown",
      "source": "Weightlifting, is an athletic discipline in the modern Olympic programme in which the athlete attempts a maximum-weight single lift of a barbell loaded with weight plates.\nThe two competition lifts in order are the snatch and the clean and jerk. The snatch is a wide grip one move lift. The Clean and Jerk is a close grip two move lift. Each weightlifter receives three attempts in each, and the combined total of the highest two successful lifts determines the overall result within a bodyweight category. Bodyweight categories are different for male and female competitors. <br>\n<img src=\"https://shawglobalnews.files.wordpress.com/2017/04/christine-girard.jpg?quality=70&strip=all&w=720\" width=\"600px\"/>"
    },
    {
      "metadata": {
        "_kg_hide-input": true,
        "trusted": true,
        "_uuid": "67a23c30238a0fd1b8f3009cd5ac4d732544e9e8"
      },
      "cell_type": "code",
      "source": "top10Weightlifting = dataMedal[dataMedal.Sport == \"Weightlifting\"].Team.value_counts()[:11]\nplt.figure(figsize=(20,6))\nsns.barplot(x=top10Weightlifting.index,y=top10Weightlifting.values,palette = \"seismic\")\nplt.title(\"Top 10 Countries Have Most Medals in Weightlifting\")\nplt.ylabel(\"Total Medals\")\nplt.xticks(rotation = 45, ha=\"right\")\nplt.show()",
      "execution_count": null,
      "outputs": []
    },
    {
      "metadata": {
        "_kg_hide-input": true,
        "trusted": true,
        "_uuid": "a948e436b07c07b0dc16ab4c35ab1b08b4aad11b"
      },
      "cell_type": "code",
      "source": "top10WeightliftingGold = dataMedal[(dataMedal.Sport == \"Weightlifting\") & (dataMedal.Medal == \"Gold\")].Team.value_counts()[:11]\nplt.figure(figsize=(20,6))\nsns.barplot(x=top10WeightliftingGold.index,y=top10WeightliftingGold.values,palette = \"coolwarm_r\")\nplt.title(\"Top 10 Countries Have Most Gold Medals in Weightlifting\")\nplt.ylabel(\"Total Gold Medals\")\nplt.xticks(rotation = 45, ha=\"right\")\nplt.show()",
      "execution_count": null,
      "outputs": []
    },
    {
      "metadata": {
        "_uuid": "b66d6eb8864bf36aeab873a979baa929919f1b3e"
      },
      "cell_type": "markdown",
      "source": "Russia (include Soviet Union) has 88 medals and 42 of them are gold. Chine follows Rusia with 34 gold medals and 57 medals in total. USA has third place with 42 medals."
    },
    {
      "metadata": {
        "_uuid": "1f1a5414412176f05928674d64b12c9a1594ec08"
      },
      "cell_type": "markdown",
      "source": "<a id=\"14\"></a><br>\n## <font color=\"red\">ARCHERY</font>"
    },
    {
      "metadata": {
        "_uuid": "776585157ee3e13384474bff6c123569030b222e"
      },
      "cell_type": "markdown",
      "source": "Archery is the art, sport, practice or skill of using a bow to shoot arrows.[1] The word comes from the Latin arcus. Historically, archery has been used for hunting and combat. In modern times, it is mainly a competitive sport and recreational activity. A person who participates in archery is typically called an archer or a bowman, and a person who is fond of or an expert at archery is sometimes called a toxophilite. <br>(Wikipedia)<br>\n\n<img src=\"https://iadsb.tmgrup.com.tr/36be8a/645/344/0/6/1000/538?u=http://i.tmgrup.com.tr/dailysabah/2016/08/09/1470772602071.jpg\" width=\"600px\"/>\n"
    },
    {
      "metadata": {
        "_kg_hide-input": true,
        "trusted": true,
        "_uuid": "a2c2e8aa19674c4912b57aa9c662a0c81ef38b13"
      },
      "cell_type": "code",
      "source": "top10Archery = dataMedal[dataMedal.Sport == \"Archery\"].NOC.value_counts()[:11]\nplt.figure(figsize=(20,6))\nsns.barplot(x=top10Archery.index,y=top10Archery.values,palette = \"viridis\")\nplt.title(\"Top 10 Countries Have Most Medals in Archery\")\nplt.ylabel(\"Total Medals\")\nplt.xticks(rotation = 45, ha=\"right\")\nplt.show()",
      "execution_count": null,
      "outputs": []
    },
    {
      "metadata": {
        "_kg_hide-input": true,
        "trusted": true,
        "_uuid": "9ff64583a70a13ea839a628be69029663776fabf"
      },
      "cell_type": "code",
      "source": "top10ArcheryGold = dataMedal[(dataMedal.Sport == \"Archery\") & (dataMedal.Medal == \"Gold\")].NOC.value_counts()[:11]\nplt.figure(figsize=(20,6))\nsns.barplot(x=top10ArcheryGold.index,y=top10ArcheryGold.values,palette = \"gnuplot_r\")\nplt.title(\"Top 10 Countries Have Most Gold Medals in Archery\")\nplt.ylabel(\"Total Gold Medals\")\nplt.xticks(rotation = 45, ha=\"right\")\nplt.show()",
      "execution_count": null,
      "outputs": []
    },
    {
      "metadata": {
        "_uuid": "a0e24b11930f3f058222630c8a97cde2a16b8d8b"
      },
      "cell_type": "markdown",
      "source": "South Korea is most successful country in archery. They have 69 medals and 49 of them are gold. Belgium has 35 gold medals and USA follows it with 22 gold medals."
    },
    {
      "metadata": {
        "_uuid": "6ba137178e927510cd391a94b0068d6424d4c7e9"
      },
      "cell_type": "markdown",
      "source": "<a id=\"15\"></a><br>\n## <font color=\"red\">RELATIONS BETWEEN AGE AND SUCCESS</font>"
    },
    {
      "metadata": {
        "_kg_hide-input": true,
        "trusted": true,
        "_uuid": "871637b3a2cd9a843886365b6955db244481bea7"
      },
      "cell_type": "code",
      "source": "data = [go.Box(x=list(df.Age.values))]\niplot(data)\n",
      "execution_count": null,
      "outputs": []
    },
    {
      "metadata": {
        "trusted": true,
        "_uuid": "76a3d667503d8a437d40f0943cd1c7ecfca9ece6",
        "_kg_hide-input": true
      },
      "cell_type": "code",
      "source": "ageAndMedal = dataMedal.iloc[:,[3,14]].Age.value_counts()\nageAndMedalList = sorted(zip(ageAndMedal.index,ageAndMedal.values))\nagesList, medalList = zip(*ageAndMedalList)\nagesList, medalList = list(agesList), list(medalList)\nplt.figure(figsize=(20,10))\nplt.scatter(agesList,medalList)\nplt.xlabel(\"Age\")\nplt.ylabel(\"Medals\")\nplt.show()",
      "execution_count": null,
      "outputs": []
    },
    {
      "metadata": {
        "_uuid": "d3ad185bd35488b0f22f31c5637ad021aed0f717"
      },
      "cell_type": "markdown",
      "source": "Obviously people  between 18 and 35 years old are more successful. Most of medals were won by people ages between 20 and 28."
    },
    {
      "metadata": {
        "trusted": true,
        "_uuid": "b66877512609a6de5f755c13eb36182360502e53",
        "_kg_hide-input": true
      },
      "cell_type": "code",
      "source": "dataMedal[\"CountMedal\"] = 1\nage0_17Medals = dataMedal[dataMedal.Age < 18].groupby(\"Medal\").sum()\nage18_24Medals = dataMedal[(dataMedal.Age > 17) & (dataMedal.Age < 25)].groupby(\"Medal\").sum()\nage25_34Medals = dataMedal[(dataMedal.Age > 24) & (dataMedal.Age < 35)].groupby(\"Medal\").sum()\nage35Medals = dataMedal[dataMedal.Age > 34].groupby(\"Medal\").sum()",
      "execution_count": null,
      "outputs": []
    },
    {
      "metadata": {
        "_kg_hide-input": true,
        "trusted": true,
        "_uuid": "6d33695dd185fed61d88c5229a407b6ae5e308f5"
      },
      "cell_type": "code",
      "source": "x = [\"0-17\",\"18-24\",\"25-34\",\"35+\"]\ny1 = [age0_17Medals.CountMedal[1], age18_24Medals.CountMedal[1], age25_34Medals.CountMedal[1],age35Medals.CountMedal[1]]\ny2 = [age0_17Medals.CountMedal[2], age18_24Medals.CountMedal[2], age25_34Medals.CountMedal[2],age35Medals.CountMedal[2]]\ny3 = [age0_17Medals.CountMedal[0], age18_24Medals.CountMedal[0], age25_34Medals.CountMedal[0],age35Medals.CountMedal[0]]\n\nagesRelationshipMedal = pd.DataFrame([y1,y2,y3],columns=x, index = [\"Gold\",\"Silver\",\"Bronze\"])\nagesRelationshipMedal",
      "execution_count": null,
      "outputs": []
    },
    {
      "metadata": {
        "trusted": true,
        "_uuid": "ee3957eaecafc1f78804a028860598dca0ad6f9a",
        "_kg_hide-input": true
      },
      "cell_type": "code",
      "source": "trace1 = go.Bar(\n    x=x,\n    y=y1,\n    name = \"Gold\",\n    text=y1,\n    textposition = 'auto',\n    marker=dict(\n        color='#D4D621',\n        line=dict(\n            color='#000000',\n            width=1.5),\n        ),\n    opacity=0.6\n)\n\ntrace2 = go.Bar(\n    x=x,\n    y=y2,\n    name = \"Silver\",\n    text=y2,\n    textposition = 'auto',\n    marker=dict(\n        color='#6B6262',\n        line=dict(\n            color='#000000',\n            width=1.5),\n        ),\n    opacity=0.6\n)\ntrace3 = go.Bar(\n    x=x,\n    y=y3,\n    name = \"Bronze\",\n    text=y3,\n    textposition = 'auto',\n    marker=dict(\n        color='#CF5015',\n        line=dict(\n            color='#000000',\n            width=1.5),\n        ),\n    opacity=0.6\n)\n\ndata = [trace1,trace2,trace3]\n\niplot(data)",
      "execution_count": null,
      "outputs": []
    },
    {
      "metadata": {
        "trusted": true,
        "_uuid": "0c7a2ed55a227a178dbf68c03d0544c9c4d21c7f"
      },
      "cell_type": "markdown",
      "source": "<a id=\"16\"></a><br>\n## <font color=\"red\">WOMEN IN OLYMPICS</font>\nEven in the early years of the modern Olympics, women were not well represented. Women participated for the first time at the 1900 Paris Games with the inclusion of women's events in lawn tennis and golf. Women's athletics and gymnastics debuted at the 1928 Olympics. <br>(Wikipedia)<br>\n<img src=\"https://cdn.cnn.com/cnnnext/dam/assets/120812014117-oly-olympic-women-riddell-pkg-00001105-horizontal-large-gallery.jpg\" width=\"600px\"/>"
    },
    {
      "metadata": {
        "_kg_hide-input": true,
        "trusted": true,
        "_uuid": "d2a69a1784a2a917be059f9f6168f6e7952f2f94"
      },
      "cell_type": "code",
      "source": "dfWomen = dataMedal[dataMedal.Sex == \"F\"]",
      "execution_count": null,
      "outputs": []
    },
    {
      "metadata": {
        "_kg_hide-input": true,
        "trusted": true,
        "_uuid": "414ae402818096371848ccdf311ef25461c14978"
      },
      "cell_type": "code",
      "source": "mostMedalCountryWomen = dfWomen.groupby(\"NOC\").sum().iloc[:,5].sort_values(ascending=False)[:21]\nplt.figure(figsize=(20,12))\nplt.xlabel(\"Medals\")\nplt.ylabel(\"Country\")\nsns.barplot(x=mostMedalCountryWomen.values, y=mostMedalCountryWomen.index, palette=\"tab20b\")\nplt.show()",
      "execution_count": null,
      "outputs": []
    },
    {
      "metadata": {
        "trusted": true,
        "_uuid": "df8ad4cef9cc584bad65b5d731a0e78d690a93b8"
      },
      "cell_type": "markdown",
      "source": "We are seeing USA on the top again. USA is the most successful country in Women Olypmics."
    },
    {
      "metadata": {
        "_uuid": "fc1b829635d6d00affa6fcb7f43ca566a9046883"
      },
      "cell_type": "markdown",
      "source": "<a id=\"17\"></a><br>\n## <font color=\"red\">MOST SUCCESSFUL SPORTERS</font>"
    },
    {
      "metadata": {
        "_uuid": "635834cbb242c68f0890fbdcf4cc0b7710d03a6f"
      },
      "cell_type": "markdown",
      "source": "<img src=\"https://hips.hearstapps.com/ghk.h-cdn.co/assets/18/02/4000x2661/gallery-1515690643-winter-olympics-2018-medals.jpg?resize=480:*\" width=\"600px\"/>"
    },
    {
      "metadata": {
        "trusted": true,
        "_uuid": "153d1b649781a3e12484f5e00ad437cbca8e3998",
        "_kg_hide-input": true
      },
      "cell_type": "code",
      "source": "for i in sorted(list(dataMedal.Sport.unique())):\n    print(i)\n    print(\"----------------------------\")\n    try:\n        print(\"[Male]\",dataMedal[(dataMedal.Sport == i) & (dataMedal.Sex == \"M\")].groupby(\"Name\").sum().CountMedal.sort_values(ascending=False).index[0],\":\",dataMedal[(dataMedal.Sport == i) & (dataMedal.Sex == \"M\")].groupby(\"Name\").sum().CountMedal.sort_values(ascending=False).values[0],\"Medals\",\" - \",dataMedal[dataMedal.Name == dataMedal[(dataMedal.Sport == i) & (dataMedal.Sex == \"M\")].groupby(\"Name\").sum().CountMedal.sort_values(ascending=False).index[0]].NOC.values[0])\n        print(\"[Female]\",dataMedal[(dataMedal.Sport == i) & (dataMedal.Sex == \"F\")].groupby(\"Name\").sum().CountMedal.sort_values(ascending=False).index[0],\":\",dataMedal[(dataMedal.Sport == i) & (dataMedal.Sex == \"F\")].groupby(\"Name\").sum().CountMedal.sort_values(ascending=False).values[0],\"Medals\",\" - \",dataMedal[dataMedal.Name == dataMedal[(dataMedal.Sport == i) & (dataMedal.Sex == \"F\")].groupby(\"Name\").sum().CountMedal.sort_values(ascending=False).index[0]].NOC.values[0])\n    except IndexError:\n        pass\n    print(\"*************************************************************************************************\")",
      "execution_count": null,
      "outputs": []
    },
    {
      "metadata": {
        "trusted": true,
        "_uuid": "4f6c4da96bf71d1f7d62f194ecd59def19b8a6cf"
      },
      "cell_type": "markdown",
      "source": "If you like it please upvote and I would be appreciate if you give me feedback. <br>\n**Thank you. **"
    }
  ],
  "metadata": {
    "kernelspec": {
      "display_name": "Python 3",
      "language": "python",
      "name": "python3"
    },
    "language_info": {
      "name": "python",
      "version": "3.6.6",
      "mimetype": "text/x-python",
      "codemirror_mode": {
        "name": "ipython",
        "version": 3
      },
      "pygments_lexer": "ipython3",
      "nbconvert_exporter": "python",
      "file_extension": ".py"
    }
  },
  "nbformat": 4,
  "nbformat_minor": 1
}
