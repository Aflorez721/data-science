{
 "cells": [
  {
   "cell_type": "markdown",
   "metadata": {},
   "source": [
    "# CONVOLUTIONAL NEURAL NETWORK\n",
    "<br><br>\n",
    "<font size=4.5 color=\"red\"> What is Convolutional Neural Network (CNN or ConvNet) ?</font>\n",
    "<br>\n",
    "Convolutional Neural Network is a deep learning algorithm which is used for recognizing images. This algorithm clusters images by similarity and perform object recognition within scenes. CNN uses unique feature of images (e.g. cat's tail and ears, airplane's wing and engine etc.) to identify object that is placed on the image. Actually this process is very similar with what our brain does to identify objects. <br>\n",
    "Traditional neural networks are not ideal for image processing that's why we are using CNN. Altough CNN is not too different from ANN. Because in the end CNN algorithm uses Artificial Neural Networks but before that CNN uses some layers to gather information and determine some features from the image.\n",
    "<br>\n",
    "<img src=\"https://cdn-images-1.medium.com/max/1600/1*N4h1SgwbWNmtrRhszM9EJg.png\" />\n",
    "<br>\n",
    "What are these layers or processes? How CNN works?\n",
    "-  Convolution\n",
    "-  Padding\n",
    "-  Pooling\n",
    "-  Flattening\n",
    "-  Full Connection\n",
    "\n",
    "<br>\n",
    "<br>\n",
    "<font size=4.5 color=\"red\"> Convolutional Layer (Convolutional Operation)</font>\n",
    "<br>\n",
    "This process is main process for CNN. In this operation there is a feature detector or filter. This filter detects edges or specific shapes. Filter is placed top left of image and multiplied with value on same indices. After that all results are summed and this result is written to output matrix. Then filter slips to right to do this whole processes again and again. Usually filter slips one by one but it can be change according to your model and this slipping process is called 'stride'. Bigger stride means smaller output. Sometimes stride value is increased to decrease output size and time.\n",
    "<br><br>\n",
    "<img src=\"https://encrypted-tbn0.gstatic.com/images?q=tbn:ANd9GcQoNDQAgN5M94MXU7K6sjqSW4FkVmAvY18DQGKf9ux27wA1w9Sm\"/>\n",
    "<br>\n",
    "Let's try to understand process above with a visualization.\n",
    "<br>\n",
    "<img src=\"https://i2.wp.com/tuncerergin.com/wp-content/uploads/2018/02/giphy.gif?fit=480%2C272\"/>\n",
    "<br>\n",
    "After convolutional operations we will use an activation function to break up linearity. We want to increase non-linearity otherwise algorithm can't understand image and act like it is a linear function. In other algorithms we usually use sigmoid and tanh functions as activation functions but in Convolutional Neural Network we are using **ReLU** becuase ReLU function is better for time-efficiency.\n",
    "<br>\n",
    "<img src=\"https://cdn-images-1.medium.com/max/1600/1*XxxiA0jJvPrHEJHD4z893g.png\"/>\n",
    "<br><br>\n",
    "<font size=4.5 color=\"red\">Padding</font>\n",
    "<br>\n",
    "We have to keep as much information we can in early processes of CNN. But convolutional operations we mentioned above decrease size of image that's why we apply <font color=\"blue\">**Padding**</font> to preserve our input size.\n",
    "<br>\n",
    "For example our input size is 36x36x3 but after convolutional operations we have output with size of 32x32x3 we will fix it by adding some padding like below.\n",
    "<img src=\"https://i2.wp.com/tuncerergin.com/wp-content/uploads/2018/02/XzUSmeu.png?w=263\"/>\n",
    "<br><br>\n",
    "<font size=4.5 color=\"red\">Pooling</font>\n",
    "<br>\n",
    "This layer is used for reducing parameters and computating process. Also by using this layer features invariant to scale or orientation changes are detected and it prevents overfitting. There are some pooling process like average pooling, max pooling etc. But mostly **max pooling** is used. Let's say we have a 2x2 filter and an 4x4 input(image) results of max pooling and average pooling will be like that:\n",
    "(stride = 2)\n",
    "<br>\n",
    "<img src=\"https://www.researchgate.net/profile/Zenghui_Wang2/publication/317496930/figure/fig1/AS:551445004066816@1508486142257/Average-versus-max-pooling_W840.jpg\" />\n",
    "<br>\n",
    "<br>\n",
    "<font size=4.5 color=\"red\">Flattening</font>\n",
    "<br>\n",
    "Basically flattening is taking matrix came from convolutional and pooling processes and turn it into one dimensional array. This is important because input of fully-connected layer -or let's say Artifical Neural Networks- consist of one dimensional array.\n",
    "<br>\n",
    "<img src=\"https://cdn-images-1.medium.com/max/1600/1*Lzx2pNLpHjGTKcofsaSH1g.png\" width=400/>\n",
    "<br><br>\n",
    "<font size=4.5 color=\"red\">Full Connection</font>\n",
    "<br>\n",
    "This layer takes data from one dimension array we saw above and starts learning process.\n",
    "<img src=\"https://cdn-images-1.medium.com/max/1600/1*Gh5PS4R_A5drl5ebd_gNrg@2x.png\" width=600/>"
   ]
  },
  {
   "cell_type": "markdown",
   "metadata": {},
   "source": [
    "## Convolutional Neural Network with Keras"
   ]
  },
  {
   "cell_type": "markdown",
   "metadata": {},
   "source": [
    "<font size=4.5 color=\"red\">Dropout</font>\n",
    "<br>\n",
    "Dropout is a regularizaton technique for reducing overfitting. It is called \"dropout\" because it drops out visible or hidden units in neural network.\n",
    "<br>\n",
    "<img src=\"http://perso.mines-paristech.fr/fabien.moutarde/ES_MachineLearning/TP_convNets/drop.png\"/>\n",
    "<br>\n",
    "<br>\n",
    "Let's look dataset we'll use.\n",
    "<br><br><br>\n",
    "<font size=4.5 color=\"blue\">About Dataset</font>\n",
    "<br>\n",
    "Now we’ll try to use this algorithm with a dataset contains images of 10 different classes of clothing.\n",
    "Dataset consists a training set of 60,000 examples and a test set of 10,000 examples. Each example is a 28x28 grayscale image, associated with a label from 10 classes.\n",
    "-  Each image is 28 pixels in height and 28 pixels in width, for a total of 784 pixels in total.\n",
    "-  Each pixel has a single pixel-value associated with it, indicating the lightness or darkness of that pixel, with higher numbers meaning darker. This pixel-value is an integer between 0 and 255.\n",
    "-  The training and test data sets have 785 columns. The first column consists of the class labels, and represents class of clothing. The rest of the columns contain the pixel-values of the associated image.\n",
    "<br>\n",
    "<br>\n",
    "Each training and test example is assigned to one of the following labels:\n",
    "<br>\n",
    "-  0 T-shirt/top\n",
    "-  1 Trouser\n",
    "-  2 Pullover\n",
    "-  3 Dress\n",
    "-  4 Coat\n",
    "-  5 Sandal\n",
    "-  6 Shirt\n",
    "-  7 Sneaker\n",
    "-  8 Bag\n",
    "-  9 Ankle boot"
   ]
  },
  {
   "cell_type": "markdown",
   "metadata": {},
   "source": [
    "### Import Libraries and Read Data"
   ]
  },
  {
   "cell_type": "code",
   "execution_count": 1,
   "metadata": {},
   "outputs": [],
   "source": [
    "import numpy as np\n",
    "import pandas as pd\n",
    "import seaborn as sns\n",
    "import matplotlib.pyplot as plt"
   ]
  },
  {
   "cell_type": "code",
   "execution_count": 2,
   "metadata": {},
   "outputs": [
    {
     "name": "stdout",
     "output_type": "stream",
     "text": [
      "Shape of Train Data: (60000, 785)\n"
     ]
    }
   ],
   "source": [
    "# Reading Train Data\n",
    "dfTrain = pd.read_csv(\"dataframes/fashion-mnist/fashion-mnist_train.csv\")\n",
    "print(\"Shape of Train Data: \" + str(dfTrain.shape))"
   ]
  },
  {
   "cell_type": "code",
   "execution_count": 3,
   "metadata": {},
   "outputs": [
    {
     "data": {
      "text/html": [
       "<div>\n",
       "<style scoped>\n",
       "    .dataframe tbody tr th:only-of-type {\n",
       "        vertical-align: middle;\n",
       "    }\n",
       "\n",
       "    .dataframe tbody tr th {\n",
       "        vertical-align: top;\n",
       "    }\n",
       "\n",
       "    .dataframe thead th {\n",
       "        text-align: right;\n",
       "    }\n",
       "</style>\n",
       "<table border=\"1\" class=\"dataframe\">\n",
       "  <thead>\n",
       "    <tr style=\"text-align: right;\">\n",
       "      <th></th>\n",
       "      <th>label</th>\n",
       "      <th>pixel1</th>\n",
       "      <th>pixel2</th>\n",
       "      <th>pixel3</th>\n",
       "      <th>pixel4</th>\n",
       "      <th>pixel5</th>\n",
       "      <th>pixel6</th>\n",
       "      <th>pixel7</th>\n",
       "      <th>pixel8</th>\n",
       "      <th>pixel9</th>\n",
       "      <th>...</th>\n",
       "      <th>pixel775</th>\n",
       "      <th>pixel776</th>\n",
       "      <th>pixel777</th>\n",
       "      <th>pixel778</th>\n",
       "      <th>pixel779</th>\n",
       "      <th>pixel780</th>\n",
       "      <th>pixel781</th>\n",
       "      <th>pixel782</th>\n",
       "      <th>pixel783</th>\n",
       "      <th>pixel784</th>\n",
       "    </tr>\n",
       "  </thead>\n",
       "  <tbody>\n",
       "    <tr>\n",
       "      <th>0</th>\n",
       "      <td>2</td>\n",
       "      <td>0</td>\n",
       "      <td>0</td>\n",
       "      <td>0</td>\n",
       "      <td>0</td>\n",
       "      <td>0</td>\n",
       "      <td>0</td>\n",
       "      <td>0</td>\n",
       "      <td>0</td>\n",
       "      <td>0</td>\n",
       "      <td>...</td>\n",
       "      <td>0</td>\n",
       "      <td>0</td>\n",
       "      <td>0</td>\n",
       "      <td>0</td>\n",
       "      <td>0</td>\n",
       "      <td>0</td>\n",
       "      <td>0</td>\n",
       "      <td>0</td>\n",
       "      <td>0</td>\n",
       "      <td>0</td>\n",
       "    </tr>\n",
       "    <tr>\n",
       "      <th>1</th>\n",
       "      <td>9</td>\n",
       "      <td>0</td>\n",
       "      <td>0</td>\n",
       "      <td>0</td>\n",
       "      <td>0</td>\n",
       "      <td>0</td>\n",
       "      <td>0</td>\n",
       "      <td>0</td>\n",
       "      <td>0</td>\n",
       "      <td>0</td>\n",
       "      <td>...</td>\n",
       "      <td>0</td>\n",
       "      <td>0</td>\n",
       "      <td>0</td>\n",
       "      <td>0</td>\n",
       "      <td>0</td>\n",
       "      <td>0</td>\n",
       "      <td>0</td>\n",
       "      <td>0</td>\n",
       "      <td>0</td>\n",
       "      <td>0</td>\n",
       "    </tr>\n",
       "    <tr>\n",
       "      <th>2</th>\n",
       "      <td>6</td>\n",
       "      <td>0</td>\n",
       "      <td>0</td>\n",
       "      <td>0</td>\n",
       "      <td>0</td>\n",
       "      <td>0</td>\n",
       "      <td>0</td>\n",
       "      <td>0</td>\n",
       "      <td>5</td>\n",
       "      <td>0</td>\n",
       "      <td>...</td>\n",
       "      <td>0</td>\n",
       "      <td>0</td>\n",
       "      <td>0</td>\n",
       "      <td>30</td>\n",
       "      <td>43</td>\n",
       "      <td>0</td>\n",
       "      <td>0</td>\n",
       "      <td>0</td>\n",
       "      <td>0</td>\n",
       "      <td>0</td>\n",
       "    </tr>\n",
       "    <tr>\n",
       "      <th>3</th>\n",
       "      <td>0</td>\n",
       "      <td>0</td>\n",
       "      <td>0</td>\n",
       "      <td>0</td>\n",
       "      <td>1</td>\n",
       "      <td>2</td>\n",
       "      <td>0</td>\n",
       "      <td>0</td>\n",
       "      <td>0</td>\n",
       "      <td>0</td>\n",
       "      <td>...</td>\n",
       "      <td>3</td>\n",
       "      <td>0</td>\n",
       "      <td>0</td>\n",
       "      <td>0</td>\n",
       "      <td>0</td>\n",
       "      <td>1</td>\n",
       "      <td>0</td>\n",
       "      <td>0</td>\n",
       "      <td>0</td>\n",
       "      <td>0</td>\n",
       "    </tr>\n",
       "    <tr>\n",
       "      <th>4</th>\n",
       "      <td>3</td>\n",
       "      <td>0</td>\n",
       "      <td>0</td>\n",
       "      <td>0</td>\n",
       "      <td>0</td>\n",
       "      <td>0</td>\n",
       "      <td>0</td>\n",
       "      <td>0</td>\n",
       "      <td>0</td>\n",
       "      <td>0</td>\n",
       "      <td>...</td>\n",
       "      <td>0</td>\n",
       "      <td>0</td>\n",
       "      <td>0</td>\n",
       "      <td>0</td>\n",
       "      <td>0</td>\n",
       "      <td>0</td>\n",
       "      <td>0</td>\n",
       "      <td>0</td>\n",
       "      <td>0</td>\n",
       "      <td>0</td>\n",
       "    </tr>\n",
       "  </tbody>\n",
       "</table>\n",
       "<p>5 rows × 785 columns</p>\n",
       "</div>"
      ],
      "text/plain": [
       "   label  pixel1  pixel2  pixel3  pixel4  pixel5  pixel6  pixel7  pixel8  \\\n",
       "0      2       0       0       0       0       0       0       0       0   \n",
       "1      9       0       0       0       0       0       0       0       0   \n",
       "2      6       0       0       0       0       0       0       0       5   \n",
       "3      0       0       0       0       1       2       0       0       0   \n",
       "4      3       0       0       0       0       0       0       0       0   \n",
       "\n",
       "   pixel9    ...     pixel775  pixel776  pixel777  pixel778  pixel779  \\\n",
       "0       0    ...            0         0         0         0         0   \n",
       "1       0    ...            0         0         0         0         0   \n",
       "2       0    ...            0         0         0        30        43   \n",
       "3       0    ...            3         0         0         0         0   \n",
       "4       0    ...            0         0         0         0         0   \n",
       "\n",
       "   pixel780  pixel781  pixel782  pixel783  pixel784  \n",
       "0         0         0         0         0         0  \n",
       "1         0         0         0         0         0  \n",
       "2         0         0         0         0         0  \n",
       "3         1         0         0         0         0  \n",
       "4         0         0         0         0         0  \n",
       "\n",
       "[5 rows x 785 columns]"
      ]
     },
     "execution_count": 3,
     "metadata": {},
     "output_type": "execute_result"
    }
   ],
   "source": [
    "# First 5 rows of train data\n",
    "dfTrain.head()"
   ]
  },
  {
   "cell_type": "code",
   "execution_count": 4,
   "metadata": {},
   "outputs": [
    {
     "name": "stdout",
     "output_type": "stream",
     "text": [
      "Shape of Test Data: (10000, 785)\n"
     ]
    }
   ],
   "source": [
    "# Reading Test Data\n",
    "dfTest = pd.read_csv(\"dataframes/fashion-mnist/fashion-mnist_test.csv\")\n",
    "print(\"Shape of Test Data: \" + str(dfTest.shape))"
   ]
  },
  {
   "cell_type": "code",
   "execution_count": 5,
   "metadata": {},
   "outputs": [
    {
     "data": {
      "text/html": [
       "<div>\n",
       "<style scoped>\n",
       "    .dataframe tbody tr th:only-of-type {\n",
       "        vertical-align: middle;\n",
       "    }\n",
       "\n",
       "    .dataframe tbody tr th {\n",
       "        vertical-align: top;\n",
       "    }\n",
       "\n",
       "    .dataframe thead th {\n",
       "        text-align: right;\n",
       "    }\n",
       "</style>\n",
       "<table border=\"1\" class=\"dataframe\">\n",
       "  <thead>\n",
       "    <tr style=\"text-align: right;\">\n",
       "      <th></th>\n",
       "      <th>label</th>\n",
       "      <th>pixel1</th>\n",
       "      <th>pixel2</th>\n",
       "      <th>pixel3</th>\n",
       "      <th>pixel4</th>\n",
       "      <th>pixel5</th>\n",
       "      <th>pixel6</th>\n",
       "      <th>pixel7</th>\n",
       "      <th>pixel8</th>\n",
       "      <th>pixel9</th>\n",
       "      <th>...</th>\n",
       "      <th>pixel775</th>\n",
       "      <th>pixel776</th>\n",
       "      <th>pixel777</th>\n",
       "      <th>pixel778</th>\n",
       "      <th>pixel779</th>\n",
       "      <th>pixel780</th>\n",
       "      <th>pixel781</th>\n",
       "      <th>pixel782</th>\n",
       "      <th>pixel783</th>\n",
       "      <th>pixel784</th>\n",
       "    </tr>\n",
       "  </thead>\n",
       "  <tbody>\n",
       "    <tr>\n",
       "      <th>0</th>\n",
       "      <td>0</td>\n",
       "      <td>0</td>\n",
       "      <td>0</td>\n",
       "      <td>0</td>\n",
       "      <td>0</td>\n",
       "      <td>0</td>\n",
       "      <td>0</td>\n",
       "      <td>0</td>\n",
       "      <td>9</td>\n",
       "      <td>8</td>\n",
       "      <td>...</td>\n",
       "      <td>103</td>\n",
       "      <td>87</td>\n",
       "      <td>56</td>\n",
       "      <td>0</td>\n",
       "      <td>0</td>\n",
       "      <td>0</td>\n",
       "      <td>0</td>\n",
       "      <td>0</td>\n",
       "      <td>0</td>\n",
       "      <td>0</td>\n",
       "    </tr>\n",
       "    <tr>\n",
       "      <th>1</th>\n",
       "      <td>1</td>\n",
       "      <td>0</td>\n",
       "      <td>0</td>\n",
       "      <td>0</td>\n",
       "      <td>0</td>\n",
       "      <td>0</td>\n",
       "      <td>0</td>\n",
       "      <td>0</td>\n",
       "      <td>0</td>\n",
       "      <td>0</td>\n",
       "      <td>...</td>\n",
       "      <td>34</td>\n",
       "      <td>0</td>\n",
       "      <td>0</td>\n",
       "      <td>0</td>\n",
       "      <td>0</td>\n",
       "      <td>0</td>\n",
       "      <td>0</td>\n",
       "      <td>0</td>\n",
       "      <td>0</td>\n",
       "      <td>0</td>\n",
       "    </tr>\n",
       "    <tr>\n",
       "      <th>2</th>\n",
       "      <td>2</td>\n",
       "      <td>0</td>\n",
       "      <td>0</td>\n",
       "      <td>0</td>\n",
       "      <td>0</td>\n",
       "      <td>0</td>\n",
       "      <td>0</td>\n",
       "      <td>14</td>\n",
       "      <td>53</td>\n",
       "      <td>99</td>\n",
       "      <td>...</td>\n",
       "      <td>0</td>\n",
       "      <td>0</td>\n",
       "      <td>0</td>\n",
       "      <td>0</td>\n",
       "      <td>63</td>\n",
       "      <td>53</td>\n",
       "      <td>31</td>\n",
       "      <td>0</td>\n",
       "      <td>0</td>\n",
       "      <td>0</td>\n",
       "    </tr>\n",
       "    <tr>\n",
       "      <th>3</th>\n",
       "      <td>2</td>\n",
       "      <td>0</td>\n",
       "      <td>0</td>\n",
       "      <td>0</td>\n",
       "      <td>0</td>\n",
       "      <td>0</td>\n",
       "      <td>0</td>\n",
       "      <td>0</td>\n",
       "      <td>0</td>\n",
       "      <td>0</td>\n",
       "      <td>...</td>\n",
       "      <td>137</td>\n",
       "      <td>126</td>\n",
       "      <td>140</td>\n",
       "      <td>0</td>\n",
       "      <td>133</td>\n",
       "      <td>224</td>\n",
       "      <td>222</td>\n",
       "      <td>56</td>\n",
       "      <td>0</td>\n",
       "      <td>0</td>\n",
       "    </tr>\n",
       "    <tr>\n",
       "      <th>4</th>\n",
       "      <td>3</td>\n",
       "      <td>0</td>\n",
       "      <td>0</td>\n",
       "      <td>0</td>\n",
       "      <td>0</td>\n",
       "      <td>0</td>\n",
       "      <td>0</td>\n",
       "      <td>0</td>\n",
       "      <td>0</td>\n",
       "      <td>0</td>\n",
       "      <td>...</td>\n",
       "      <td>0</td>\n",
       "      <td>0</td>\n",
       "      <td>0</td>\n",
       "      <td>0</td>\n",
       "      <td>0</td>\n",
       "      <td>0</td>\n",
       "      <td>0</td>\n",
       "      <td>0</td>\n",
       "      <td>0</td>\n",
       "      <td>0</td>\n",
       "    </tr>\n",
       "  </tbody>\n",
       "</table>\n",
       "<p>5 rows × 785 columns</p>\n",
       "</div>"
      ],
      "text/plain": [
       "   label  pixel1  pixel2  pixel3  pixel4  pixel5  pixel6  pixel7  pixel8  \\\n",
       "0      0       0       0       0       0       0       0       0       9   \n",
       "1      1       0       0       0       0       0       0       0       0   \n",
       "2      2       0       0       0       0       0       0      14      53   \n",
       "3      2       0       0       0       0       0       0       0       0   \n",
       "4      3       0       0       0       0       0       0       0       0   \n",
       "\n",
       "   pixel9    ...     pixel775  pixel776  pixel777  pixel778  pixel779  \\\n",
       "0       8    ...          103        87        56         0         0   \n",
       "1       0    ...           34         0         0         0         0   \n",
       "2      99    ...            0         0         0         0        63   \n",
       "3       0    ...          137       126       140         0       133   \n",
       "4       0    ...            0         0         0         0         0   \n",
       "\n",
       "   pixel780  pixel781  pixel782  pixel783  pixel784  \n",
       "0         0         0         0         0         0  \n",
       "1         0         0         0         0         0  \n",
       "2        53        31         0         0         0  \n",
       "3       224       222        56         0         0  \n",
       "4         0         0         0         0         0  \n",
       "\n",
       "[5 rows x 785 columns]"
      ]
     },
     "execution_count": 5,
     "metadata": {},
     "output_type": "execute_result"
    }
   ],
   "source": [
    "# First 5 rows of test data\n",
    "dfTest.head()"
   ]
  },
  {
   "cell_type": "code",
   "execution_count": 6,
   "metadata": {},
   "outputs": [],
   "source": [
    "Y_train = dfTrain.label\n",
    "X_train = dfTrain.drop([\"label\"], axis=1)\n",
    "X_test = dfTest.drop([\"label\"], axis=1)\n",
    "Y_test = dfTest.label"
   ]
  },
  {
   "cell_type": "code",
   "execution_count": 7,
   "metadata": {},
   "outputs": [
    {
     "data": {
      "image/png": "[encoded data removed]",
      "text/plain": [
       "<Figure size 1152x360 with 1 Axes>"
      ]
     },
     "metadata": {
      "needs_background": "light"
     },
     "output_type": "display_data"
    }
   ],
   "source": [
    "plt.figure(figsize=(16,5))\n",
    "sns.countplot(Y_train, palette=\"twilight_shifted_r\")\n",
    "plt.title(\"Number of Classes\")\n",
    "plt.show()"
   ]
  },
  {
   "cell_type": "markdown",
   "metadata": {},
   "source": [
    "### Example Images"
   ]
  },
  {
   "cell_type": "code",
   "execution_count": 8,
   "metadata": {},
   "outputs": [
    {
     "data": {
      "image/png": "[encoded data removed]",
      "text/plain": [
       "<Figure size 1440x360 with 10 Axes>"
      ]
     },
     "metadata": {
      "needs_background": "light"
     },
     "output_type": "display_data"
    }
   ],
   "source": [
    "plt.figure(figsize=(20,5))\n",
    "\n",
    "for i in range(10):\n",
    "    plt.subplot(2,5,i+1)\n",
    "    img = dfTrain[dfTrain.label==i].iloc[0,1:].values\n",
    "    img = img.reshape((28,28))\n",
    "    plt.imshow(img, cmap='gray')\n",
    "    plt.title(\"Class: \" + str(i))\n",
    "    plt.axis('off')\n",
    "    \n",
    "plt.show()"
   ]
  },
  {
   "cell_type": "markdown",
   "metadata": {},
   "source": [
    "### Normalization\n",
    "<br>\n",
    "We'll use normalization to reduce effect of illumination's differences. Also it contributes to works CNN faster."
   ]
  },
  {
   "cell_type": "code",
   "execution_count": 9,
   "metadata": {},
   "outputs": [],
   "source": [
    "# Normalization\n",
    "X_train = X_train / 255.0\n",
    "X_test = X_test / 255.0"
   ]
  },
  {
   "cell_type": "markdown",
   "metadata": {},
   "source": [
    "### Reshape\n",
    "<br>\n",
    "Our images are 28x28 but to using Keras they have to be 3D matrices. That's why we reshape them as 28x28x1, we'll use 1 channel because our images are gray scaled. (e.g. grayscale images has only one channel, rgb image has three channels)"
   ]
  },
  {
   "cell_type": "code",
   "execution_count": 10,
   "metadata": {},
   "outputs": [
    {
     "name": "stdout",
     "output_type": "stream",
     "text": [
      "X_train Shape:  (60000, 28, 28, 1)\n",
      "X_test Shape:  (10000, 28, 28, 1)\n"
     ]
    }
   ],
   "source": [
    "# Reshape\n",
    "X_train = X_train.values.reshape(-1, 28, 28, 1)\n",
    "X_test = X_test.values.reshape(-1, 28, 28, 1)\n",
    "print(\"X_train Shape: \", X_train.shape)\n",
    "print(\"X_test Shape: \", X_test.shape)"
   ]
  },
  {
   "cell_type": "markdown",
   "metadata": {},
   "source": [
    "### Label Encoding\n",
    "<br>\n",
    "We turn our classes into one-hot encoding label.\n",
    "<br>\n",
    "<img src=\"https://i.stack.imgur.com/Fcdj4.jpg\"/>"
   ]
  },
  {
   "cell_type": "code",
   "execution_count": 11,
   "metadata": {},
   "outputs": [
    {
     "name": "stderr",
     "output_type": "stream",
     "text": [
      "Using TensorFlow backend.\n"
     ]
    }
   ],
   "source": [
    "# Label Encoding\n",
    "from keras.utils.np_utils import to_categorical\n",
    "\n",
    "Y_train = to_categorical(Y_train, num_classes=10)"
   ]
  },
  {
   "cell_type": "markdown",
   "metadata": {},
   "source": [
    "### Train-Test Split\n",
    "<br>\n",
    "We'll split our train data 30% of data will be validation data and 70% of data will be train data."
   ]
  },
  {
   "cell_type": "code",
   "execution_count": 12,
   "metadata": {},
   "outputs": [
    {
     "name": "stdout",
     "output_type": "stream",
     "text": [
      "x_train shape (42000, 28, 28, 1)\n",
      "x_test shape (18000, 28, 28, 1)\n",
      "y_train shape (42000, 10)\n",
      "y_test shape (18000, 10)\n"
     ]
    }
   ],
   "source": [
    "from sklearn.model_selection import train_test_split\n",
    "\n",
    "x_train, x_val, y_train, y_val = train_test_split(X_train, Y_train, test_size = 0.3, random_state = 42)\n",
    "\n",
    "print(\"x_train shape\",x_train.shape)\n",
    "print(\"x_test shape\",x_val.shape)\n",
    "print(\"y_train shape\",y_train.shape)\n",
    "print(\"y_test shape\",y_val.shape)"
   ]
  },
  {
   "cell_type": "markdown",
   "metadata": {},
   "source": [
    "### Implementing Convolutional Neural Network Algorithm with Keras\n",
    "<br>\n",
    "<font size=4.5 color=\"blue\">Create Model</font>"
   ]
  },
  {
   "cell_type": "code",
   "execution_count": 13,
   "metadata": {},
   "outputs": [],
   "source": [
    "from sklearn.metrics import confusion_matrix\n",
    "from keras.utils.np_utils import to_categorical\n",
    "from keras.models import Sequential\n",
    "from keras.layers import Dense, Dropout, Flatten, Conv2D, MaxPool2D\n",
    "from keras.optimizers import RMSprop, Adam\n",
    "from keras.preprocessing.image import ImageDataGenerator\n",
    "from keras.callbacks import ReduceLROnPlateau\n",
    "\n",
    "model = Sequential()\n",
    "\n",
    "model.add(Conv2D(filters = 32, kernel_size = (3,3), padding = 'Same', activation='relu', input_shape=(28,28,1)))\n",
    "model.add(MaxPool2D(pool_size = (2,2)))\n",
    "model.add(Dropout(0.25))\n",
    "\n",
    "model.add(Conv2D(filters = 64, kernel_size = (3,3),padding = 'Same', activation ='relu'))\n",
    "model.add(MaxPool2D(pool_size=(2,2)))\n",
    "model.add(Dropout(0.25))\n",
    "\n",
    "model.add(Conv2D(filters = 128, kernel_size = (3,3),padding = 'Same', activation ='relu'))\n",
    "model.add(MaxPool2D(pool_size=(2,2)))\n",
    "model.add(Dropout(0.25))\n",
    "\n",
    "model.add(Flatten())\n",
    "\n",
    "model.add(Dense(256, activation='relu'))\n",
    "model.add(Dropout(0.25))\n",
    "model.add(Dense(256, activation='relu'))\n",
    "model.add(Dropout(0.1))\n",
    "model.add(Dense(10, activation='softmax'))\n"
   ]
  },
  {
   "cell_type": "markdown",
   "metadata": {},
   "source": [
    "<font size=4.5 color=\"blue\">Optimizer</font>"
   ]
  },
  {
   "cell_type": "markdown",
   "metadata": {},
   "source": [
    "We'll use 'Adam Optimizer'. Adam is an optimization algorithm that can used instead of the classical stochastic gradient descent procedure to update network weights iterative based in training data. It is different to classical stochastic gradient descent. SGD pursues a single learning rate for all weights updates and learning rate(alpha) doesn't change during training process. However in adam optimizer we can say adam optimizer updates leraning rate dynamically.\n",
    "<br>\n",
    "<img src=\"https://3qeqpr26caki16dnhd19sv6by6v-wpengine.netdna-ssl.com/wp-content/uploads/2017/05/Comparison-of-Adam-to-Other-Optimization-Algorithms-Training-a-Multilayer-Perceptron.png\" />"
   ]
  },
  {
   "cell_type": "code",
   "execution_count": 14,
   "metadata": {},
   "outputs": [],
   "source": [
    "optimizer = Adam(lr=0.001, beta_1=0.9, beta_2=0.999, epsilon=None, decay=0.0, amsgrad=False)"
   ]
  },
  {
   "cell_type": "markdown",
   "metadata": {},
   "source": [
    "<font size=4.5 color=\"blue\">Compile Model</font>\n",
    "<br>\n",
    "Since we have 10 classes we'll use categorical crossentropy."
   ]
  },
  {
   "cell_type": "code",
   "execution_count": 15,
   "metadata": {},
   "outputs": [],
   "source": [
    "model.compile(optimizer = optimizer, loss = 'categorical_crossentropy', metrics=['accuracy'])"
   ]
  },
  {
   "cell_type": "markdown",
   "metadata": {},
   "source": [
    "<font size=4.5 color=\"blue\">Epoch and Batch Size</font>\n",
    "<br>\n",
    "Epoch is the number of times the algorithm sees the entire data set. If one epoch is too big to run to the computer at once we divide it smaller parts and number of this parts is called batch."
   ]
  },
  {
   "cell_type": "code",
   "execution_count": 16,
   "metadata": {},
   "outputs": [],
   "source": [
    "epochs = 50\n",
    "batchSize = 300"
   ]
  },
  {
   "cell_type": "markdown",
   "metadata": {},
   "source": [
    "<font size=4.5 color=\"blue\">Data Augmentation</font>\n",
    "<br>\n",
    "By using \"data augmentation\" we can create new data with different orientations. It prevents overfitting.\n",
    "<img src=\"https://developers.google.com/machine-learning/practica/image-classification/images/data_augmentation.png\"/>"
   ]
  },
  {
   "cell_type": "code",
   "execution_count": 17,
   "metadata": {},
   "outputs": [],
   "source": [
    "# Data Augmentation\n",
    "datagen = ImageDataGenerator(\n",
    "        featurewise_center=False,  # set input mean to 0 over the dataset\n",
    "        samplewise_center=False,  # set each sample mean to 0\n",
    "        featurewise_std_normalization=False,  # divide inputs by std of the dataset\n",
    "        samplewise_std_normalization=False,  # divide each input by its std\n",
    "        zca_whitening=False,  # dimesion reduction\n",
    "        rotation_range=0.1,  # randomly rotate images in the range\n",
    "        zoom_range = 0.1, # Randomly zoom image\n",
    "        width_shift_range=0.1,  # randomly shift images horizontally\n",
    "        height_shift_range=0.1,  # randomly shift images vertically\n",
    "        horizontal_flip=False,  # randomly flip images\n",
    "        vertical_flip=False)  # randomly flip images\n",
    "\n",
    "datagen.fit(x_train)"
   ]
  },
  {
   "cell_type": "markdown",
   "metadata": {},
   "source": [
    "<font size=4.5 color=\"blue\">Fit The Model</font>"
   ]
  },
  {
   "cell_type": "code",
   "execution_count": 18,
   "metadata": {},
   "outputs": [
    {
     "name": "stdout",
     "output_type": "stream",
     "text": [
      "Epoch 1/50\n",
      "140/140 [==============================] - 279s 2s/step - loss: 1.0101 - acc: 0.6174 - val_loss: 0.6132 - val_acc: 0.7601\n",
      "Epoch 2/50\n",
      "140/140 [==============================] - 275s 2s/step - loss: 0.6648 - acc: 0.7422 - val_loss: 0.5339 - val_acc: 0.7899\n",
      "Epoch 3/50\n",
      "140/140 [==============================] - 252s 2s/step - loss: 0.5966 - acc: 0.7716 - val_loss: 0.4451 - val_acc: 0.8312\n",
      "Epoch 4/50\n",
      "140/140 [==============================] - 255s 2s/step - loss: 0.5503 - acc: 0.7883 - val_loss: 0.4204 - val_acc: 0.8431\n",
      "Epoch 5/50\n",
      "140/140 [==============================] - 271s 2s/step - loss: 0.5117 - acc: 0.8033 - val_loss: 0.3929 - val_acc: 0.8508\n",
      "Epoch 6/50\n",
      "140/140 [==============================] - 278s 2s/step - loss: 0.4834 - acc: 0.8163 - val_loss: 0.3735 - val_acc: 0.8583\n",
      "Epoch 7/50\n",
      "140/140 [==============================] - 255s 2s/step - loss: 0.4654 - acc: 0.8219 - val_loss: 0.3459 - val_acc: 0.8714\n",
      "Epoch 8/50\n",
      "140/140 [==============================] - 311s 2s/step - loss: 0.4417 - acc: 0.8315 - val_loss: 0.3330 - val_acc: 0.8756\n",
      "Epoch 9/50\n",
      "140/140 [==============================] - 261s 2s/step - loss: 0.4290 - acc: 0.8367 - val_loss: 0.3290 - val_acc: 0.8762\n",
      "Epoch 10/50\n",
      "140/140 [==============================] - 257s 2s/step - loss: 0.4176 - acc: 0.8405 - val_loss: 0.3377 - val_acc: 0.8698\n",
      "Epoch 11/50\n",
      "140/140 [==============================] - 218s 2s/step - loss: 0.4016 - acc: 0.8497 - val_loss: 0.3002 - val_acc: 0.8871\n",
      "Epoch 12/50\n",
      "140/140 [==============================] - 207s 1s/step - loss: 0.3899 - acc: 0.8519 - val_loss: 0.3194 - val_acc: 0.8756\n",
      "Epoch 13/50\n",
      "140/140 [==============================] - 225s 2s/step - loss: 0.3829 - acc: 0.8561 - val_loss: 0.2829 - val_acc: 0.8963\n",
      "Epoch 14/50\n",
      "140/140 [==============================] - 258s 2s/step - loss: 0.3703 - acc: 0.8598 - val_loss: 0.2928 - val_acc: 0.8886\n",
      "Epoch 15/50\n",
      "140/140 [==============================] - 231s 2s/step - loss: 0.3641 - acc: 0.8609 - val_loss: 0.2882 - val_acc: 0.8877\n",
      "Epoch 16/50\n",
      "140/140 [==============================] - 254s 2s/step - loss: 0.3604 - acc: 0.8616 - val_loss: 0.2819 - val_acc: 0.8948\n",
      "Epoch 17/50\n",
      "140/140 [==============================] - 249s 2s/step - loss: 0.3557 - acc: 0.8642 - val_loss: 0.2786 - val_acc: 0.8961\n",
      "Epoch 18/50\n",
      "140/140 [==============================] - 211s 2s/step - loss: 0.3469 - acc: 0.8699 - val_loss: 0.2565 - val_acc: 0.9049\n",
      "Epoch 19/50\n",
      "140/140 [==============================] - 207s 1s/step - loss: 0.3407 - acc: 0.8698 - val_loss: 0.2702 - val_acc: 0.8989\n",
      "Epoch 20/50\n",
      "140/140 [==============================] - 243s 2s/step - loss: 0.3420 - acc: 0.8710 - val_loss: 0.2644 - val_acc: 0.9005\n",
      "Epoch 21/50\n",
      "140/140 [==============================] - 249s 2s/step - loss: 0.3294 - acc: 0.8762 - val_loss: 0.2685 - val_acc: 0.8992\n",
      "Epoch 22/50\n",
      "140/140 [==============================] - 248s 2s/step - loss: 0.3231 - acc: 0.8761 - val_loss: 0.2597 - val_acc: 0.8994\n",
      "Epoch 23/50\n",
      "140/140 [==============================] - 255s 2s/step - loss: 0.3227 - acc: 0.8782 - val_loss: 0.2500 - val_acc: 0.9058\n",
      "Epoch 24/50\n",
      "140/140 [==============================] - 234s 2s/step - loss: 0.3183 - acc: 0.8797 - val_loss: 0.2492 - val_acc: 0.9053\n",
      "Epoch 25/50\n",
      "140/140 [==============================] - 224s 2s/step - loss: 0.3177 - acc: 0.8804 - val_loss: 0.2473 - val_acc: 0.9063\n",
      "Epoch 26/50\n",
      "140/140 [==============================] - 216s 2s/step - loss: 0.3155 - acc: 0.8809 - val_loss: 0.2446 - val_acc: 0.9062\n",
      "Epoch 27/50\n",
      "140/140 [==============================] - 283s 2s/step - loss: 0.3073 - acc: 0.8837 - val_loss: 0.2445 - val_acc: 0.9071\n",
      "Epoch 28/50\n",
      "140/140 [==============================] - 263s 2s/step - loss: 0.3072 - acc: 0.8824 - val_loss: 0.2555 - val_acc: 0.9022\n",
      "Epoch 29/50\n",
      "140/140 [==============================] - 225s 2s/step - loss: 0.3027 - acc: 0.8860 - val_loss: 0.2456 - val_acc: 0.9071\n",
      "Epoch 30/50\n",
      "140/140 [==============================] - 232s 2s/step - loss: 0.2993 - acc: 0.8881 - val_loss: 0.2402 - val_acc: 0.9087\n",
      "Epoch 31/50\n",
      "140/140 [==============================] - 235s 2s/step - loss: 0.2962 - acc: 0.8875 - val_loss: 0.2534 - val_acc: 0.9034\n",
      "Epoch 32/50\n",
      "140/140 [==============================] - 237s 2s/step - loss: 0.2988 - acc: 0.8876 - val_loss: 0.2404 - val_acc: 0.9092\n",
      "Epoch 33/50\n",
      "140/140 [==============================] - 249s 2s/step - loss: 0.2964 - acc: 0.8884 - val_loss: 0.2422 - val_acc: 0.9079\n",
      "Epoch 34/50\n",
      "140/140 [==============================] - 219s 2s/step - loss: 0.2941 - acc: 0.8896 - val_loss: 0.2391 - val_acc: 0.9106\n",
      "Epoch 35/50\n",
      "140/140 [==============================] - 223s 2s/step - loss: 0.2900 - acc: 0.8900 - val_loss: 0.2670 - val_acc: 0.8956\n",
      "Epoch 36/50\n",
      "140/140 [==============================] - 247s 2s/step - loss: 0.2888 - acc: 0.8924 - val_loss: 0.2385 - val_acc: 0.9087\n",
      "Epoch 37/50\n",
      "140/140 [==============================] - 239s 2s/step - loss: 0.2856 - acc: 0.8922 - val_loss: 0.2335 - val_acc: 0.9108\n",
      "Epoch 38/50\n",
      "140/140 [==============================] - 255s 2s/step - loss: 0.2806 - acc: 0.8937 - val_loss: 0.2335 - val_acc: 0.9113\n",
      "Epoch 39/50\n",
      "140/140 [==============================] - 232s 2s/step - loss: 0.2802 - acc: 0.8934 - val_loss: 0.2333 - val_acc: 0.9104\n",
      "Epoch 40/50\n",
      "140/140 [==============================] - 214s 2s/step - loss: 0.2804 - acc: 0.8928 - val_loss: 0.2218 - val_acc: 0.9174\n",
      "Epoch 41/50\n",
      "140/140 [==============================] - 238s 2s/step - loss: 0.2777 - acc: 0.8957 - val_loss: 0.2647 - val_acc: 0.8981\n",
      "Epoch 42/50\n",
      "140/140 [==============================] - 225s 2s/step - loss: 0.2748 - acc: 0.8957 - val_loss: 0.2342 - val_acc: 0.9118\n",
      "Epoch 43/50\n",
      "140/140 [==============================] - 212s 2s/step - loss: 0.2731 - acc: 0.8960 - val_loss: 0.2305 - val_acc: 0.9142\n",
      "Epoch 44/50\n",
      "140/140 [==============================] - 216s 2s/step - loss: 0.2749 - acc: 0.8950 - val_loss: 0.2227 - val_acc: 0.9178\n",
      "Epoch 45/50\n",
      "140/140 [==============================] - 259s 2s/step - loss: 0.2710 - acc: 0.8975 - val_loss: 0.2258 - val_acc: 0.9165\n",
      "Epoch 46/50\n",
      "140/140 [==============================] - 264s 2s/step - loss: 0.2756 - acc: 0.8952 - val_loss: 0.2353 - val_acc: 0.9105\n",
      "Epoch 47/50\n",
      "140/140 [==============================] - 264s 2s/step - loss: 0.2691 - acc: 0.8978 - val_loss: 0.2283 - val_acc: 0.9156\n",
      "Epoch 48/50\n",
      "140/140 [==============================] - 264s 2s/step - loss: 0.2675 - acc: 0.8979 - val_loss: 0.2385 - val_acc: 0.9104\n",
      "Epoch 49/50\n",
      "140/140 [==============================] - 263s 2s/step - loss: 0.2710 - acc: 0.8966 - val_loss: 0.2454 - val_acc: 0.9040\n",
      "Epoch 50/50\n",
      "140/140 [==============================] - 257s 2s/step - loss: 0.2646 - acc: 0.8992 - val_loss: 0.2274 - val_acc: 0.9145\n"
     ]
    }
   ],
   "source": [
    "cnn = model.fit_generator(datagen.flow(x_train, y_train, batch_size=batchSize), epochs=epochs, validation_data=(x_val, y_val), steps_per_epoch=x_train.shape[0] // batchSize)"
   ]
  },
  {
   "cell_type": "markdown",
   "metadata": {},
   "source": [
    "### Evaluate The Model"
   ]
  },
  {
   "cell_type": "code",
   "execution_count": 33,
   "metadata": {},
   "outputs": [
    {
     "name": "stdout",
     "output_type": "stream",
     "text": [
      "Accuracy after fitting: 89.92%\n"
     ]
    }
   ],
   "source": [
    "print(\"Accuracy after fitting: {:.2f}%\".format(cnn.history['acc'][-1]*100))"
   ]
  },
  {
   "cell_type": "code",
   "execution_count": 29,
   "metadata": {},
   "outputs": [
    {
     "data": {
      "image/png": "[encoded data removed]",
      "text/plain": [
       "<Figure size 1296x432 with 2 Axes>"
      ]
     },
     "metadata": {
      "needs_background": "light"
     },
     "output_type": "display_data"
    }
   ],
   "source": [
    "plt.figure(figsize=(18,6))\n",
    "\n",
    "plt.subplot(1,2,1)\n",
    "plt.plot(cnn.history['loss'], color=\"blue\", label = \"Loss\")\n",
    "plt.plot(cnn.history['val_loss'], color=\"orange\", label = \"Validation Loss\")\n",
    "plt.ylabel(\"Loss\")\n",
    "plt.xlabel(\"Number of Epochs\")\n",
    "plt.legend()\n",
    "\n",
    "plt.subplot(1,2,2)\n",
    "plt.plot(cnn.history['acc'], color=\"green\", label = \"Accuracy\")\n",
    "plt.plot(cnn.history['val_acc'], color=\"red\", label = \"Validation Accuracy\")\n",
    "plt.ylabel(\"Accuracy\")\n",
    "plt.xlabel(\"Number of Epochs\")\n",
    "plt.legend()\n",
    "plt.show()"
   ]
  },
  {
   "cell_type": "markdown",
   "metadata": {},
   "source": [
    "Let's find out score by giving test data we imported before."
   ]
  },
  {
   "cell_type": "code",
   "execution_count": 59,
   "metadata": {},
   "outputs": [],
   "source": [
    "Y_test = to_categorical(Y_test, num_classes=10) # One-Hot Encoding"
   ]
  },
  {
   "cell_type": "code",
   "execution_count": 71,
   "metadata": {},
   "outputs": [
    {
     "name": "stdout",
     "output_type": "stream",
     "text": [
      "10000/10000 [==============================] - 30s 3ms/step\n",
      "Test Loss: 0.2069\n",
      "Test Accuracy: 92.18%\n"
     ]
    }
   ],
   "source": [
    "score = model.evaluate(X_test, Y_test)\n",
    "print(\"Test Loss: {:.4f}\".format(score[0]))\n",
    "print(\"Test Accuracy: {:.2f}%\".format(score[1]*100))"
   ]
  },
  {
   "cell_type": "code",
   "execution_count": 70,
   "metadata": {},
   "outputs": [
    {
     "data": {
      "image/png": "[encoded data removed]",
      "text/plain": [
       "<Figure size 720x720 with 2 Axes>"
      ]
     },
     "metadata": {
      "needs_background": "light"
     },
     "output_type": "display_data"
    }
   ],
   "source": [
    "Y_pred = model.predict(X_test)\n",
    "Y_pred_classes = np.argmax(Y_pred, axis = 1)\n",
    "Y_true = np.argmax(Y_test, axis = 1)\n",
    "confusionMatrix = confusion_matrix(Y_true, Y_pred_classes)\n",
    "\n",
    "f,ax=plt.subplots(figsize=(10,10))\n",
    "sns.heatmap(confusionMatrix, annot=True, linewidths=0.1, cmap = \"gist_yarg_r\", linecolor=\"black\", fmt='.0f', ax=ax)\n",
    "plt.xlabel(\"Predicted Label\")\n",
    "plt.ylabel(\"True Label\")\n",
    "plt.title(\"Confusion Matrix\")\n",
    "plt.show()"
   ]
  },
  {
   "cell_type": "code",
   "execution_count": 74,
   "metadata": {},
   "outputs": [
    {
     "data": {
      "text/plain": [
       "array([[878,   1,   9,  11,   1,   0,  99,   0,   1,   0],\n",
       "       [  1, 989,   1,   8,   0,   0,   1,   0,   0,   0],\n",
       "       [ 16,   0, 815,  17,  84,   0,  68,   0,   0,   0],\n",
       "       [ 13,   5,   1, 953,  12,   0,  16,   0,   0,   0],\n",
       "       [  1,   0,  14,  24, 885,   0,  75,   0,   1,   0],\n",
       "       [  0,   0,   0,   0,   0, 984,   0,  13,   1,   2],\n",
       "       [103,   1,  24,  20,  49,   0, 802,   0,   1,   0],\n",
       "       [  0,   0,   0,   0,   0,  13,   0, 971,   0,  16],\n",
       "       [  2,   0,   1,   0,   3,   4,   2,   0, 987,   1],\n",
       "       [  0,   0,   0,   0,   0,   4,   0,  42,   0, 954]])"
      ]
     },
     "execution_count": 74,
     "metadata": {},
     "output_type": "execute_result"
    }
   ],
   "source": [
    "confusionMatrix"
   ]
  },
  {
   "cell_type": "code",
   "execution_count": null,
   "metadata": {},
   "outputs": [],
   "source": [
    "for i in confusionMatrix:\n",
    "    for j in confusionMatrix[i]:\n",
    "        "
   ]
  }
 ],
 "metadata": {
  "kernelspec": {
   "display_name": "Python 3",
   "language": "python",
   "name": "python3"
  },
  "language_info": {
   "codemirror_mode": {
    "name": "ipython",
    "version": 3
   },
   "file_extension": ".py",
   "mimetype": "text/x-python",
   "name": "python",
   "nbconvert_exporter": "python",
   "pygments_lexer": "ipython3",
   "version": "3.6.6"
  }
 },
 "nbformat": 4,
 "nbformat_minor": 2
}
