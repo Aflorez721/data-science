{
  "cells": [
    {
      "metadata": {
        "_uuid": "63b60abfd1ed4af52aae9e73250ab8df018c17c4"
      },
      "cell_type": "markdown",
      "source": "# INTRODUCTION\nTerrorism is a systematic use of violence to spread fear and mostly practiced by political organizations and religious groups. It became one of the biggest problem in our world.\nAccording to researchs one of the problems that must be solved immediately is global terrorism. I try to analyse terrorist attacks which occured between 1970-2017 in the world and closer look to terrorist attacks happened in Turkey.\n\nThis is my first kernel and first attempt to analyse a data. Please comment your thoughts and what you recommend me to improve this and my future works.\n\nThanks.\n\n![](https://ukdj.imgix.net/2017/12/terrorism.jpg?auto=compress%2Cformat&fit=crop&h=580&ixlib=php-1.2.1&q=80&w=1021&wpsize=td_1021x580&s=deebed2357a05031b8cd2b6ad3ce1d5e)"
    },
    {
      "metadata": {
        "_uuid": "8f2839f25d086af736a60e9eeb907d3b93b6e0e5",
        "_cell_guid": "b1076dfc-b9ad-4769-8c92-a6c4dae69d19",
        "trusted": true
      },
      "cell_type": "code",
      "source": "# This Python 3 environment comes with many helpful analytics libraries installed\n# It is defined by the kaggle/python docker image: https://github.com/kaggle/docker-python\n# For example, here's several helpful packages to load in \n\nimport numpy as np # linear algebra\nimport pandas as pd # data processing, CSV file I/O (e.g. pd.read_csv)\nimport seaborn as sns\nimport matplotlib.pyplot as plt\n\n# Input data files are available in the \"../input/\" directory.\n# For example, running this (by clicking run or pressing Shift+Enter) will list the files in the input directory\n\nimport os\nprint(os.listdir(\"../input\"))\n\n# Any results you write to the current directory are saved as output.",
      "execution_count": null,
      "outputs": []
    },
    {
      "metadata": {
        "_cell_guid": "79c7e3d0-c299-4dcb-8224-4455121ee9b0",
        "_uuid": "d629ff2d2480ee46fbb7e2d37f6b5fab8052498a",
        "trusted": true,
        "_kg_hide-output": true,
        "_kg_hide-input": true
      },
      "cell_type": "code",
      "source": "# Read our data for Global\ndf = pd.read_csv('../input/globalterrorismdb_0718dist.csv', encoding='windows-1252')",
      "execution_count": null,
      "outputs": []
    },
    {
      "metadata": {
        "trusted": true,
        "_uuid": "fb63d690651633eacf35efa888b01df228eed24a"
      },
      "cell_type": "code",
      "source": "list(df.columns)",
      "execution_count": null,
      "outputs": []
    },
    {
      "metadata": {
        "trusted": true,
        "_uuid": "9710f14b8dfef967013c5edcbb8e280a393fefad"
      },
      "cell_type": "code",
      "source": "df.head()",
      "execution_count": null,
      "outputs": []
    },
    {
      "metadata": {
        "trusted": true,
        "_uuid": "97069c01006e7c095e5b40e23bf68b073ac932b3"
      },
      "cell_type": "code",
      "source": "turkeyDf = df[(df.country_txt == 'Turkey')]  # Data for Turkey",
      "execution_count": null,
      "outputs": []
    },
    {
      "metadata": {
        "trusted": true,
        "_uuid": "b5882f2e1eb2b64ae5aabf2a45050c33f5cfb479"
      },
      "cell_type": "code",
      "source": "# 30 countries that the most terrorrist attacks occured\nmost30Global = df.country_txt.value_counts()[:31]\nplt.figure(figsize = (15,10))\nax = sns.barplot(x=most30Global,y=most30Global.index, palette=\"rocket\")\nplt.title('30 Countries Where Most of the Terrorist Attacks were Shown')\nplt.xlabel('Numbers of Terrorirst Attacks (1970 - 2017)')\nplt.xticks(np.arange(0,26500,2000))\nplt.show()",
      "execution_count": null,
      "outputs": []
    },
    {
      "metadata": {
        "trusted": true,
        "_uuid": "2952822b45d5da737ec82c88f1838c2d538b54d8"
      },
      "cell_type": "code",
      "source": "df.region_txt.value_counts()\ndfRegion = df.groupby('region_txt').sum()\n\ndfRegionAndPeopleKilled = sorted(list(zip(dfRegion['nkill'].values, dfRegion['nkill'].index)), reverse=True)\npeopleWereKilledList, regionList = zip(*dfRegionAndPeopleKilled)\npeopleWereKilledList, regionList = list(peopleWereKilledList), list(regionList)\n\nplt.figure(figsize=(15,10))\nsns.barplot(x=regionList, y=peopleWereKilledList, palette= sns.color_palette(\"YlOrRd_r\", 10))\nplt.xticks(rotation=45, ha='right')\nplt.title(\"Numbers of people killed\")\nplt.show()\n",
      "execution_count": null,
      "outputs": []
    },
    {
      "metadata": {
        "_uuid": "2b2b6b1020a8e27615883a3d663d57f5f23963aa"
      },
      "cell_type": "markdown",
      "source": "Apparently Middle East & North Africa and South Asia had suffered from terrorist attacks more than the other regions.\nAlso as you can see below 58% of attacks were target to Middle East & North Africa and South Asia regions."
    },
    {
      "metadata": {
        "trusted": true,
        "_uuid": "d6a3d8f4f5599a178498f2cf4e6fdb2aec8574e2"
      },
      "cell_type": "code",
      "source": "# Percentage of Attacks By Regions\nlabels = dfRegion.index\ncolors=['#17A50E', '#D905FA', '#D0E02F', '#2FD0E0', '#FF0000', '#00FFE8','#CAC8C2', '#6AF394', '#C08CEC', '#FAA6E5', '#37528A', '#DF650C']\nexplode=[0,0,0,0,0,0,0,0,0,0,0,0]\nsizes = dfRegion['nkill'].values\n\nplt.figure(figsize=(15,15))\nplt.pie(sizes, explode=explode, labels=labels, colors=colors, autopct='%1.1f%%', pctdistance=0.5)\nplt.title('Terrorist Attacks by Regions')\nplt.show()",
      "execution_count": null,
      "outputs": []
    },
    {
      "metadata": {
        "trusted": true,
        "_uuid": "761705c386d08eac111ea676da4147febc809d34",
        "_kg_hide-input": false
      },
      "cell_type": "code",
      "source": "# Terrorist Incidents by Years\ndfYear = list(zip(df.iyear.value_counts().index, df.iyear.value_counts().values))\ndfYear = sorted(dfYear)\nterrorByYear = []\nterrorByCounts = []\nfor i in dfYear:\n    terrorByYear.append(i[0])\n    terrorByCounts.append(i[1])\n    \nplt.figure(figsize=(20,5))\nsns.barplot(x=terrorByYear, y=terrorByCounts, palette=sns.color_palette(\"hls\", len(terrorByYear)))\nplt.xticks(rotation=90)\nplt.xlabel('Year')\nplt.ylabel('Numbers of Attack')\nplt.show()",
      "execution_count": null,
      "outputs": []
    },
    {
      "metadata": {
        "_kg_hide-input": true,
        "trusted": true,
        "_uuid": "caa6b2542a79abd5fafa450ebf19e8cdf69aa7c4"
      },
      "cell_type": "code",
      "source": "totalKilled = df[df['iyear'] <= 2007].groupby('gname').sum()['nkill'].values.sum()\ntotalKilledAfter2007 = df[df['iyear'] > 2007].groupby('gname').sum()['nkill'].values.sum()\nprint(\"Total people killed by terrorists between 1970 and 2007:\",int(totalKilled))\nprint(\"Total people killed by terrorists between 2008 and 2017:\",int(totalKilledAfter2007))\n",
      "execution_count": null,
      "outputs": []
    },
    {
      "metadata": {
        "_kg_hide-output": false,
        "_kg_hide-input": true,
        "trusted": true,
        "_uuid": "c3d8acce60dfeaf75b32fae879c8cf3d4707c3a3"
      },
      "cell_type": "code",
      "source": "df[df['iyear'] > 2007].groupby('gname').sum()[['nkill']].sort_values(['nkill'],ascending=False)",
      "execution_count": null,
      "outputs": []
    },
    {
      "metadata": {
        "_uuid": "7549803a7cdb923af014aec1f99cb73993de393b"
      },
      "cell_type": "markdown",
      "source": "As we can see after 2007 more people were killed than between 1970 and 2007. Most of these people were killed by \n - Islamic State of Iraq and the Levant (ISIL) : 55697\n - Taliban: 27457\n - Boko Haram: 20328\n \n When we look these groups we can see ISIL mostly active in Iraq and Syria, Taliban in Afghanistan and Boko Haram in Nigeria"
    },
    {
      "metadata": {
        "trusted": true,
        "_uuid": "8ce19bded4cfb8590aece444fdbcd0fe8239e537",
        "_kg_hide-output": false,
        "_kg_hide-input": false
      },
      "cell_type": "code",
      "source": "byYear = df.groupby(\"iyear\").sum()\nplt.figure(figsize=(20,5))\nbyYear.nkill.plot(color=\"#4F098E\", label = \"Number of People Killed\", linewidth = 4, alpha = 0.8, grid = True)\nplt.legend(loc='upper left')\nplt.xticks(np.arange(byYear.index.min(),2018,5))\nplt.yticks(np.arange(0,50000,5000))\nplt.xlabel('Year')\nplt.ylabel('People Killed')\nplt.title('Number of People Killed')\nplt.show()",
      "execution_count": null,
      "outputs": []
    },
    {
      "metadata": {
        "trusted": true,
        "_uuid": "582deca57b20b1676f32b2f1c53676e83bccee5d"
      },
      "cell_type": "code",
      "source": "df.head()",
      "execution_count": null,
      "outputs": []
    },
    {
      "metadata": {
        "trusted": true,
        "_uuid": "569235ab07ec26b39e11583105a27932815efc3f",
        "_kg_hide-input": false,
        "scrolled": true
      },
      "cell_type": "code",
      "source": "regionAndYear = pd.crosstab(df.iyear, df.region_txt)\nregionAndYear.plot(color=sns.color_palette(\"bright\", 12),grid=True, linewidth = 2)\nfigure=plt.gcf()\nfigure.set_size_inches(20,6)\nplt.xlabel(\"Year\")\nplt.ylabel(\"Numbers of Terrorist Attacks\")\nplt.title(\"Terrorist Attacks by Year and Region\")\nplt.show()",
      "execution_count": null,
      "outputs": []
    },
    {
      "metadata": {
        "trusted": true,
        "_uuid": "77cc58a19aaa38063c0087f905a6393d3ba514b9"
      },
      "cell_type": "markdown",
      "source": "After 2010 in Middle East & North Africa and South Asia terrorist attacks sharply raised. "
    },
    {
      "metadata": {
        "trusted": true,
        "_uuid": "f1c3f10984f0b65a94ca0d7c6f95cb36c401a0fc"
      },
      "cell_type": "code",
      "source": "df['attacktype1_txt'].value_counts()\nplt.figure(figsize=(20,8))\nsns.set(style=\"darkgrid\", context=\"talk\")\nsns.barplot(x=df['attacktype1_txt'].value_counts().index, y=df['attacktype1_txt'].value_counts().values, palette=\"GnBu_r\")\nplt.xlabel(\"Methods of Attacks\")\nplt.ylabel(\"Numbers of Attacks\")\nplt.xticks(rotation=45, ha=\"right\")\nplt.title(\"Attacks Type\")\nplt.show()\n",
      "execution_count": null,
      "outputs": []
    },
    {
      "metadata": {
        "_uuid": "2cc68f9608a6ecddb4d18d39736f791a816515ec"
      },
      "cell_type": "markdown",
      "source": "## TURKEY"
    },
    {
      "metadata": {
        "trusted": true,
        "_uuid": "625ddeeff6607827593fe2dbb8941723bc4ef4b4"
      },
      "cell_type": "code",
      "source": "turkeyDf.head()",
      "execution_count": null,
      "outputs": []
    },
    {
      "metadata": {
        "_uuid": "0af572880fbe74e70f6e84ed5a2e636966c74582"
      },
      "cell_type": "markdown",
      "source": "### Terrorist Attacks Year by Year"
    },
    {
      "metadata": {
        "trusted": true,
        "_uuid": "5c948309f2d0db1653277be1c3fcc6a81628d809"
      },
      "cell_type": "code",
      "source": "yearOfAttacksTurkey = turkeyDf['iyear'].value_counts()\nlistOfAttacksYear = sorted(list(zip(yearOfAttacksTurkey.index, yearOfAttacksTurkey.values)))\nattacksYear, attacksCount = zip(*listOfAttacksYear)\nattacksYear, attacksCount = list(attacksYear), list(attacksCount)\n\nsns.set(style=\"white\", context=\"talk\")\nf, ax1 = plt.subplots(figsize=(20,10))\nsns.pointplot(x=attacksYear, y=attacksCount, color=\"orange\")\nplt.xlabel(\"Year\")\nplt.xticks(rotation=90)\nplt.ylabel(\"Numbers of Terrorist Attacks\")\nplt.grid()\n\n",
      "execution_count": null,
      "outputs": []
    },
    {
      "metadata": {
        "trusted": true,
        "_uuid": "87dc6091f0e225a4917ac45003c7158bd9f9a7fe"
      },
      "cell_type": "code",
      "source": "mostActiveGroupsTen = turkeyDf[turkeyDf['gname'].isin(turkeyDf['gname'].value_counts()[:11].index)]\nsns.set(style=\"whitegrid\", context=\"talk\")\npd.crosstab(mostActiveGroupsTen.iyear,mostActiveGroupsTen.gname).plot(color=sns.color_palette('Paired',12))\nplt.xlabel(\"Year\")\nfig=plt.gcf()\nfig.set_size_inches(20,6)\nplt.show()",
      "execution_count": null,
      "outputs": []
    },
    {
      "metadata": {
        "_uuid": "2c6bb49ab543527b9f180c600b64da85cba81d4d"
      },
      "cell_type": "markdown",
      "source": "Between late 80's and early 90's terrorist attacks were raised and it reached its peak. We can see Kurdistan Workers' Party (PKK)'s attacks are correlated with that. After their leader Abdullah Ocalan was caught by Turkish Army their activity drop down. After 2014 we can observe same scenario: aggressively raise and sharply down."
    },
    {
      "metadata": {
        "trusted": true,
        "_uuid": "93337ebb37ddea6576bb7378a203f3b44888421a"
      },
      "cell_type": "code",
      "source": "terrorGroupsTurkey = turkeyDf.gname.value_counts()\nterrorGroupsList15 = sorted(list(zip(terrorGroupsTurkey.values[:16], terrorGroupsTurkey.index[:16])), reverse=True)\nattacksInTurkey15, terroristsInTurkey15 = zip(*terrorGroupsList15)\nattacksInTurkey15, terroristsInTurkey15 = list(attacksInTurkey15), list(terroristsInTurkey15)\n\nplt.figure(figsize=(20,6))\nsns.barplot(x=terroristsInTurkey15, y=attacksInTurkey15, palette = sns.cubehelix_palette(len(terroristsInTurkey15)))\nplt.xticks(rotation=70, ha=\"right\")\nplt.xlabel(\"Terrorist Organisations\")\nplt.ylabel(\"Attacks\")\nplt.show()",
      "execution_count": null,
      "outputs": []
    },
    {
      "metadata": {
        "_uuid": "254db24ae41cd275d01d6f5ba8424f82b28f1b11"
      },
      "cell_type": "markdown",
      "source": "**Top 30 Cities Attacked by Terrorists **"
    },
    {
      "metadata": {
        "trusted": true,
        "_uuid": "ff97daf92bf3b95e6f215ea033b2d6e072fa6e52"
      },
      "cell_type": "code",
      "source": "citiesAttacked = turkeyDf.provstate.value_counts()\ncitiesAttackedList = sorted(list(zip(citiesAttacked.values[:31], citiesAttacked.index[:31])), reverse=True)\ncitiesAttacked30, citiesCount30 = zip(*citiesAttackedList)\ncitiesAttacked30, citiesCount30 = list(citiesAttacked30), list(citiesCount30)\n\nplt.figure(figsize=(20,10))\nsns.barplot(x=citiesAttacked30, y=citiesCount30)\nplt.xticks(np.arange(0,1201,100))\nplt.xlabel(\"Number of Attacks\")\nplt.show()",
      "execution_count": null,
      "outputs": []
    },
    {
      "metadata": {
        "_uuid": "6af952dd33251dbc21cb734d4f3d0d771fa14819"
      },
      "cell_type": "markdown",
      "source": "**Attacks Types of Terrorists**"
    },
    {
      "metadata": {
        "trusted": true,
        "_uuid": "ab6e1d67301c86792b3fe8fcc2769c19d23059ba"
      },
      "cell_type": "code",
      "source": "attackType = turkeyDf.attacktype1_txt.value_counts()\nattackTypeList = sorted(list(zip(attackType.values, attackType.index)), reverse=True)\nattackCount, attackMethod = zip(*attackTypeList)\nattackCount, attackMethod = list(attackCount), list(attackMethod)\n\nplt.figure(figsize=(20,8))\nsns.barplot(x=attackMethod, y=attackCount, palette = sns.color_palette(\"YlOrBr_r\", 9))\nplt.xticks(rotation=35, ha=\"right\")\nplt.xlabel(\"Attack Types of Terrorists\")\nplt.title(\"Attack Types\")\nplt.ylabel(\"Attacks\")\nplt.show()",
      "execution_count": null,
      "outputs": []
    },
    {
      "metadata": {
        "trusted": true,
        "_uuid": "97b002aa48371f64cd17a40ab240c7d8f72b1750"
      },
      "cell_type": "code",
      "source": "targetType = turkeyDf.targtype1_txt.value_counts()\ntargetTypeList = sorted(list(zip(targetType.values, targetType.index)), reverse=True)\ntargetCount, target = zip(*targetTypeList)\ntargetCount, target = list(targetCount), list(target)\n\nplt.figure(figsize=(20,8))\nsns.barplot(x=target, y=targetCount, palette = sns.color_palette(\"YlGn_r\", 21))\nplt.xticks(rotation=35, ha=\"right\")\nplt.xlabel(\"Targets of Terrorists\")\nplt.ylabel(\"Attacks\")\nplt.show()",
      "execution_count": null,
      "outputs": []
    },
    {
      "metadata": {
        "trusted": true,
        "scrolled": true,
        "_uuid": "2d7aba8eacd507f49c54db2b95457f714e622fca"
      },
      "cell_type": "code",
      "source": "terrorists=turkeyDf['gname'].value_counts()[:5].to_frame()\nterrorists.columns=['gname']\nkill=turkeyDf.groupby('gname')['nkill'].sum().to_frame()\nterrorists.merge(kill,left_index=True,right_index=True,how='left').plot.bar(width=0.9)\nfig=plt.gcf()\nfig.set_size_inches(20,6)\nplt.show()",
      "execution_count": null,
      "outputs": []
    }
  ],
  "metadata": {
    "kernelspec": {
      "display_name": "Python 3",
      "language": "python",
      "name": "python3"
    },
    "language_info": {
      "name": "python",
      "version": "3.6.6",
      "mimetype": "text/x-python",
      "codemirror_mode": {
        "name": "ipython",
        "version": 3
      },
      "pygments_lexer": "ipython3",
      "nbconvert_exporter": "python",
      "file_extension": ".py"
    }
  },
  "nbformat": 4,
  "nbformat_minor": 1
}
