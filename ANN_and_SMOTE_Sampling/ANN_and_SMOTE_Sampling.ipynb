{
  "cells": [
    {
      "metadata": {
        "_uuid": "47145f29fe9bc06d173a7bf66881132305df6df0"
      },
      "cell_type": "markdown",
      "source": "# Credit Card Freud Detection - Neural Networks and SMOTE Sampling"
    },
    {
      "metadata": {
        "_uuid": "e70f7881f5fe0af181834092f41886e9d5eae48f"
      },
      "cell_type": "markdown",
      "source": "## About Dataset\n<br>\n\"The datasets contains transactions made by credit cards in September 2013 by european cardholders. This dataset presents transactions that occurred in two days, where we have 492 frauds out of 284,807 transactions. The dataset is highly unbalanced, the positive class (frauds) account for 0.172% of all transactions.\n\nIt contains only numerical input variables which are the result of a PCA transformation. Unfortunately, due to confidentiality issues, we cannot provide the original features and more background information about the data. Features V1, V2, ... V28 are the principal components obtained with PCA, the only features which have not been transformed with PCA are 'Time' and 'Amount'. Feature 'Time' contains the seconds elapsed between each transaction and the first transaction in the dataset. The feature 'Amount' is the transaction Amount, this feature can be used for example-dependant cost-senstive learning. Feature 'Class' is the response variable and it takes value 1 in case of fraud and 0 otherwise.\"\n<br>\n<img src=\"https://images.techhive.com/images/article/2014/12/credit_card_fraud-100537848-large.jpg\"/>"
    },
    {
      "metadata": {
        "_uuid": "2d7afc30946595f6c618f68d3b2a1f12184fa685"
      },
      "cell_type": "markdown",
      "source": "## Import Libraries"
    },
    {
      "metadata": {
        "_uuid": "8f2839f25d086af736a60e9eeb907d3b93b6e0e5",
        "_cell_guid": "b1076dfc-b9ad-4769-8c92-a6c4dae69d19",
        "trusted": true
      },
      "cell_type": "code",
      "source": "# This Python 3 environment comes with many helpful analytics libraries installed\n# It is defined by the kaggle/python docker image: https://github.com/kaggle/docker-python\n# For example, here's several helpful packages to load in \n\nimport numpy as np # linear algebra\nimport pandas as pd # data processing, CSV file I/O (e.g. pd.read_csv)\nimport keras\nimport matplotlib.pyplot as plt\nimport seaborn as sns\n\n# Input data files are available in the \"../input/\" directory.\n# For example, running this (by clicking run or pressing Shift+Enter) will list the files in the input directory\n\nimport os\nprint(os.listdir(\"../input\"))\n\n# Any results you write to the current directory are saved as output.",
      "execution_count": 1,
      "outputs": [
        {
          "output_type": "stream",
          "text": "Using TensorFlow backend.\n",
          "name": "stderr"
        },
        {
          "output_type": "stream",
          "text": "['creditcard.csv']\n",
          "name": "stdout"
        }
      ]
    },
    {
      "metadata": {
        "_cell_guid": "79c7e3d0-c299-4dcb-8224-4455121ee9b0",
        "collapsed": true,
        "_uuid": "d629ff2d2480ee46fbb7e2d37f6b5fab8052498a",
        "trusted": false
      },
      "cell_type": "markdown",
      "source": "## Read and Explore Data"
    },
    {
      "metadata": {
        "trusted": true,
        "_uuid": "b5bb132b5af2dc1237ddb324cf0e805a70fc745b"
      },
      "cell_type": "code",
      "source": "df = pd.read_csv(\"../input/creditcard.csv\")",
      "execution_count": 2,
      "outputs": []
    },
    {
      "metadata": {
        "trusted": true,
        "_uuid": "2b7118ba27d3ee17bd401db920beda447691ef71"
      },
      "cell_type": "code",
      "source": "# First 5 rows of data\ndf.head()",
      "execution_count": 3,
      "outputs": [
        {
          "output_type": "execute_result",
          "execution_count": 3,
          "data": {
            "text/plain": "   Time        V1        V2        V3  ...         V27       V28  Amount  Class\n0   0.0 -1.359807 -0.072781  2.536347  ...    0.133558 -0.021053  149.62      0\n1   0.0  1.191857  0.266151  0.166480  ...   -0.008983  0.014724    2.69      0\n2   1.0 -1.358354 -1.340163  1.773209  ...   -0.055353 -0.059752  378.66      0\n3   1.0 -0.966272 -0.185226  1.792993  ...    0.062723  0.061458  123.50      0\n4   2.0 -1.158233  0.877737  1.548718  ...    0.219422  0.215153   69.99      0\n\n[5 rows x 31 columns]",
            "text/html": "<div>\n<style scoped>\n    .dataframe tbody tr th:only-of-type {\n        vertical-align: middle;\n    }\n\n    .dataframe tbody tr th {\n        vertical-align: top;\n    }\n\n    .dataframe thead th {\n        text-align: right;\n    }\n</style>\n<table border=\"1\" class=\"dataframe\">\n  <thead>\n    <tr style=\"text-align: right;\">\n      <th></th>\n      <th>Time</th>\n      <th>V1</th>\n      <th>V2</th>\n      <th>V3</th>\n      <th>V4</th>\n      <th>V5</th>\n      <th>V6</th>\n      <th>V7</th>\n      <th>V8</th>\n      <th>V9</th>\n      <th>V10</th>\n      <th>V11</th>\n      <th>V12</th>\n      <th>V13</th>\n      <th>V14</th>\n      <th>V15</th>\n      <th>V16</th>\n      <th>V17</th>\n      <th>V18</th>\n      <th>V19</th>\n      <th>V20</th>\n      <th>V21</th>\n      <th>V22</th>\n      <th>V23</th>\n      <th>V24</th>\n      <th>V25</th>\n      <th>V26</th>\n      <th>V27</th>\n      <th>V28</th>\n      <th>Amount</th>\n      <th>Class</th>\n    </tr>\n  </thead>\n  <tbody>\n    <tr>\n      <th>0</th>\n      <td>0.0</td>\n      <td>-1.359807</td>\n      <td>-0.072781</td>\n      <td>2.536347</td>\n      <td>1.378155</td>\n      <td>-0.338321</td>\n      <td>0.462388</td>\n      <td>0.239599</td>\n      <td>0.098698</td>\n      <td>0.363787</td>\n      <td>0.090794</td>\n      <td>-0.551600</td>\n      <td>-0.617801</td>\n      <td>-0.991390</td>\n      <td>-0.311169</td>\n      <td>1.468177</td>\n      <td>-0.470401</td>\n      <td>0.207971</td>\n      <td>0.025791</td>\n      <td>0.403993</td>\n      <td>0.251412</td>\n      <td>-0.018307</td>\n      <td>0.277838</td>\n      <td>-0.110474</td>\n      <td>0.066928</td>\n      <td>0.128539</td>\n      <td>-0.189115</td>\n      <td>0.133558</td>\n      <td>-0.021053</td>\n      <td>149.62</td>\n      <td>0</td>\n    </tr>\n    <tr>\n      <th>1</th>\n      <td>0.0</td>\n      <td>1.191857</td>\n      <td>0.266151</td>\n      <td>0.166480</td>\n      <td>0.448154</td>\n      <td>0.060018</td>\n      <td>-0.082361</td>\n      <td>-0.078803</td>\n      <td>0.085102</td>\n      <td>-0.255425</td>\n      <td>-0.166974</td>\n      <td>1.612727</td>\n      <td>1.065235</td>\n      <td>0.489095</td>\n      <td>-0.143772</td>\n      <td>0.635558</td>\n      <td>0.463917</td>\n      <td>-0.114805</td>\n      <td>-0.183361</td>\n      <td>-0.145783</td>\n      <td>-0.069083</td>\n      <td>-0.225775</td>\n      <td>-0.638672</td>\n      <td>0.101288</td>\n      <td>-0.339846</td>\n      <td>0.167170</td>\n      <td>0.125895</td>\n      <td>-0.008983</td>\n      <td>0.014724</td>\n      <td>2.69</td>\n      <td>0</td>\n    </tr>\n    <tr>\n      <th>2</th>\n      <td>1.0</td>\n      <td>-1.358354</td>\n      <td>-1.340163</td>\n      <td>1.773209</td>\n      <td>0.379780</td>\n      <td>-0.503198</td>\n      <td>1.800499</td>\n      <td>0.791461</td>\n      <td>0.247676</td>\n      <td>-1.514654</td>\n      <td>0.207643</td>\n      <td>0.624501</td>\n      <td>0.066084</td>\n      <td>0.717293</td>\n      <td>-0.165946</td>\n      <td>2.345865</td>\n      <td>-2.890083</td>\n      <td>1.109969</td>\n      <td>-0.121359</td>\n      <td>-2.261857</td>\n      <td>0.524980</td>\n      <td>0.247998</td>\n      <td>0.771679</td>\n      <td>0.909412</td>\n      <td>-0.689281</td>\n      <td>-0.327642</td>\n      <td>-0.139097</td>\n      <td>-0.055353</td>\n      <td>-0.059752</td>\n      <td>378.66</td>\n      <td>0</td>\n    </tr>\n    <tr>\n      <th>3</th>\n      <td>1.0</td>\n      <td>-0.966272</td>\n      <td>-0.185226</td>\n      <td>1.792993</td>\n      <td>-0.863291</td>\n      <td>-0.010309</td>\n      <td>1.247203</td>\n      <td>0.237609</td>\n      <td>0.377436</td>\n      <td>-1.387024</td>\n      <td>-0.054952</td>\n      <td>-0.226487</td>\n      <td>0.178228</td>\n      <td>0.507757</td>\n      <td>-0.287924</td>\n      <td>-0.631418</td>\n      <td>-1.059647</td>\n      <td>-0.684093</td>\n      <td>1.965775</td>\n      <td>-1.232622</td>\n      <td>-0.208038</td>\n      <td>-0.108300</td>\n      <td>0.005274</td>\n      <td>-0.190321</td>\n      <td>-1.175575</td>\n      <td>0.647376</td>\n      <td>-0.221929</td>\n      <td>0.062723</td>\n      <td>0.061458</td>\n      <td>123.50</td>\n      <td>0</td>\n    </tr>\n    <tr>\n      <th>4</th>\n      <td>2.0</td>\n      <td>-1.158233</td>\n      <td>0.877737</td>\n      <td>1.548718</td>\n      <td>0.403034</td>\n      <td>-0.407193</td>\n      <td>0.095921</td>\n      <td>0.592941</td>\n      <td>-0.270533</td>\n      <td>0.817739</td>\n      <td>0.753074</td>\n      <td>-0.822843</td>\n      <td>0.538196</td>\n      <td>1.345852</td>\n      <td>-1.119670</td>\n      <td>0.175121</td>\n      <td>-0.451449</td>\n      <td>-0.237033</td>\n      <td>-0.038195</td>\n      <td>0.803487</td>\n      <td>0.408542</td>\n      <td>-0.009431</td>\n      <td>0.798278</td>\n      <td>-0.137458</td>\n      <td>0.141267</td>\n      <td>-0.206010</td>\n      <td>0.502292</td>\n      <td>0.219422</td>\n      <td>0.215153</td>\n      <td>69.99</td>\n      <td>0</td>\n    </tr>\n  </tbody>\n</table>\n</div>"
          },
          "metadata": {}
        }
      ]
    },
    {
      "metadata": {
        "trusted": true,
        "_uuid": "aaa4432873a2ee852da4ec0a57a92333dae2b3da"
      },
      "cell_type": "code",
      "source": "df.info()",
      "execution_count": 4,
      "outputs": [
        {
          "output_type": "stream",
          "text": "<class 'pandas.core.frame.DataFrame'>\nRangeIndex: 284807 entries, 0 to 284806\nData columns (total 31 columns):\nTime      284807 non-null float64\nV1        284807 non-null float64\nV2        284807 non-null float64\nV3        284807 non-null float64\nV4        284807 non-null float64\nV5        284807 non-null float64\nV6        284807 non-null float64\nV7        284807 non-null float64\nV8        284807 non-null float64\nV9        284807 non-null float64\nV10       284807 non-null float64\nV11       284807 non-null float64\nV12       284807 non-null float64\nV13       284807 non-null float64\nV14       284807 non-null float64\nV15       284807 non-null float64\nV16       284807 non-null float64\nV17       284807 non-null float64\nV18       284807 non-null float64\nV19       284807 non-null float64\nV20       284807 non-null float64\nV21       284807 non-null float64\nV22       284807 non-null float64\nV23       284807 non-null float64\nV24       284807 non-null float64\nV25       284807 non-null float64\nV26       284807 non-null float64\nV27       284807 non-null float64\nV28       284807 non-null float64\nAmount    284807 non-null float64\nClass     284807 non-null int64\ndtypes: float64(30), int64(1)\nmemory usage: 67.4 MB\n",
          "name": "stdout"
        }
      ]
    },
    {
      "metadata": {
        "trusted": true,
        "_uuid": "50ad158e98e3bf56e2a8866247ba2980b65900fa"
      },
      "cell_type": "code",
      "source": "df.columns",
      "execution_count": 5,
      "outputs": [
        {
          "output_type": "execute_result",
          "execution_count": 5,
          "data": {
            "text/plain": "Index(['Time', 'V1', 'V2', 'V3', 'V4', 'V5', 'V6', 'V7', 'V8', 'V9', 'V10',\n       'V11', 'V12', 'V13', 'V14', 'V15', 'V16', 'V17', 'V18', 'V19', 'V20',\n       'V21', 'V22', 'V23', 'V24', 'V25', 'V26', 'V27', 'V28', 'Amount',\n       'Class'],\n      dtype='object')"
          },
          "metadata": {}
        }
      ]
    },
    {
      "metadata": {
        "_uuid": "90dcf68dad6d9d8794d927b245a5d5bb7d302226"
      },
      "cell_type": "markdown",
      "source": "## Normalize 'Amount'"
    },
    {
      "metadata": {
        "trusted": true,
        "_uuid": "16563402e84bca3c52c6e15686baeedbd047d7f3"
      },
      "cell_type": "code",
      "source": "from sklearn.preprocessing import StandardScaler",
      "execution_count": 6,
      "outputs": []
    },
    {
      "metadata": {
        "trusted": true,
        "_uuid": "4be099e30389dad238e5df626ca22ee6fce4b775"
      },
      "cell_type": "code",
      "source": "df['Amount(Normalized)'] = StandardScaler().fit_transform(df['Amount'].values.reshape(-1,1))",
      "execution_count": 7,
      "outputs": []
    },
    {
      "metadata": {
        "trusted": true,
        "_uuid": "da78370708b9a7ebfb8d53c497fb4ff4f2da49ac"
      },
      "cell_type": "code",
      "source": "df.iloc[:,[29,31]].head()",
      "execution_count": 26,
      "outputs": [
        {
          "output_type": "execute_result",
          "execution_count": 26,
          "data": {
            "text/plain": "   Amount  Amount(Normalized)\n0  149.62            0.244964\n1    2.69           -0.342475\n2  378.66            1.160686\n3  123.50            0.140534\n4   69.99           -0.073403",
            "text/html": "<div>\n<style scoped>\n    .dataframe tbody tr th:only-of-type {\n        vertical-align: middle;\n    }\n\n    .dataframe tbody tr th {\n        vertical-align: top;\n    }\n\n    .dataframe thead th {\n        text-align: right;\n    }\n</style>\n<table border=\"1\" class=\"dataframe\">\n  <thead>\n    <tr style=\"text-align: right;\">\n      <th></th>\n      <th>Amount</th>\n      <th>Amount(Normalized)</th>\n    </tr>\n  </thead>\n  <tbody>\n    <tr>\n      <th>0</th>\n      <td>149.62</td>\n      <td>0.244964</td>\n    </tr>\n    <tr>\n      <th>1</th>\n      <td>2.69</td>\n      <td>-0.342475</td>\n    </tr>\n    <tr>\n      <th>2</th>\n      <td>378.66</td>\n      <td>1.160686</td>\n    </tr>\n    <tr>\n      <th>3</th>\n      <td>123.50</td>\n      <td>0.140534</td>\n    </tr>\n    <tr>\n      <th>4</th>\n      <td>69.99</td>\n      <td>-0.073403</td>\n    </tr>\n  </tbody>\n</table>\n</div>"
          },
          "metadata": {}
        }
      ]
    },
    {
      "metadata": {
        "trusted": true,
        "_uuid": "9552b3529bd0a4140e2199a13e23f3d9c61d594d"
      },
      "cell_type": "code",
      "source": "df = df.drop(columns = ['Amount', 'Time'], axis=1) # This columns are not necessary anymore.",
      "execution_count": 27,
      "outputs": []
    },
    {
      "metadata": {
        "_uuid": "c34606b2d10e70c0a019caa8fbbf1f4c0cd91388"
      },
      "cell_type": "markdown",
      "source": "## Data PreProcessing"
    },
    {
      "metadata": {
        "trusted": true,
        "_uuid": "f8efd0d4c63e7725a6497e548c58f5832a3bac25"
      },
      "cell_type": "code",
      "source": "X = df.drop('Class', axis=1)\n\ny = df['Class']",
      "execution_count": 28,
      "outputs": []
    },
    {
      "metadata": {
        "trusted": true,
        "_uuid": "f413b5226569c7d9fa095fec96695f41e38d125f"
      },
      "cell_type": "markdown",
      "source": "## Train-Test Split"
    },
    {
      "metadata": {
        "trusted": true,
        "_uuid": "925a9b4e851383e46d2c24d427d30f400eb3d396"
      },
      "cell_type": "code",
      "source": "from sklearn.model_selection import train_test_split",
      "execution_count": 29,
      "outputs": []
    },
    {
      "metadata": {
        "trusted": true,
        "_uuid": "8fb7863d42a8d86313378b66ae3588e4270f4d10"
      },
      "cell_type": "code",
      "source": "X_train, X_test, y_train, y_test = train_test_split(X, y, test_size=0.3, random_state=42)",
      "execution_count": 30,
      "outputs": []
    },
    {
      "metadata": {
        "trusted": true,
        "_uuid": "b66ce79af05efbfe9986678ccfa3b4f5b0ff6d37"
      },
      "cell_type": "code",
      "source": "# We are transforming data to numpy array to implementing with keras\nX_train = np.array(X_train)\nX_test = np.array(X_test)\ny_train = np.array(y_train)\ny_test = np.array(y_test)",
      "execution_count": 31,
      "outputs": []
    },
    {
      "metadata": {
        "_uuid": "665feb0896fac8791a57bf1d1d5324587be3fe9a"
      },
      "cell_type": "markdown",
      "source": "## Artificial Neural Networks"
    },
    {
      "metadata": {
        "trusted": true,
        "_uuid": "803645350555ca24630809dc4a2832df7660fa59"
      },
      "cell_type": "code",
      "source": "from keras.models import Sequential\nfrom keras.layers import Dense, Dropout ",
      "execution_count": 32,
      "outputs": []
    },
    {
      "metadata": {
        "trusted": true,
        "_uuid": "1897fde6a9d55996196c79c9b60b85f890c92699"
      },
      "cell_type": "code",
      "source": "model = Sequential([\n    Dense(units=20, input_dim = X_train.shape[1], activation='relu'),\n    Dense(units=24,activation='relu'),\n    Dropout(0.5),\n    Dense(units=20,activation='relu'),\n    Dense(units=24,activation='relu'),\n    Dense(1, activation='sigmoid')\n])",
      "execution_count": 33,
      "outputs": []
    },
    {
      "metadata": {
        "trusted": true,
        "_uuid": "a438e3677941c94bfc494c31d13a56cd495c99c0"
      },
      "cell_type": "code",
      "source": "model.summary()",
      "execution_count": 34,
      "outputs": [
        {
          "output_type": "stream",
          "text": "_________________________________________________________________\nLayer (type)                 Output Shape              Param #   \n=================================================================\ndense_1 (Dense)              (None, 20)                600       \n_________________________________________________________________\ndense_2 (Dense)              (None, 24)                504       \n_________________________________________________________________\ndropout_1 (Dropout)          (None, 24)                0         \n_________________________________________________________________\ndense_3 (Dense)              (None, 20)                500       \n_________________________________________________________________\ndense_4 (Dense)              (None, 24)                504       \n_________________________________________________________________\ndense_5 (Dense)              (None, 1)                 25        \n=================================================================\nTotal params: 2,133\nTrainable params: 2,133\nNon-trainable params: 0\n_________________________________________________________________\n",
          "name": "stdout"
        }
      ]
    },
    {
      "metadata": {
        "trusted": true,
        "_uuid": "5cd245251c12ae795f551e0e522e90b30f37ffde"
      },
      "cell_type": "code",
      "source": "model.compile(optimizer='adam', loss='binary_crossentropy', metrics=['accuracy'])\nmodel.fit(X_train, y_train, batch_size=30, epochs=5)",
      "execution_count": 35,
      "outputs": [
        {
          "output_type": "stream",
          "text": "Epoch 1/5\n199364/199364 [==============================] - 16s 80us/step - loss: 0.0087 - acc: 0.9989\nEpoch 2/5\n199364/199364 [==============================] - 12s 63us/step - loss: 0.0042 - acc: 0.9993\nEpoch 3/5\n199364/199364 [==============================] - 12s 62us/step - loss: 0.0036 - acc: 0.9994\nEpoch 4/5\n199364/199364 [==============================] - 12s 61us/step - loss: 0.0034 - acc: 0.9993\nEpoch 5/5\n199364/199364 [==============================] - 13s 64us/step - loss: 0.0034 - acc: 0.9994\n",
          "name": "stdout"
        },
        {
          "output_type": "execute_result",
          "execution_count": 35,
          "data": {
            "text/plain": "<keras.callbacks.History at 0x7fc505d9f400>"
          },
          "metadata": {}
        }
      ]
    },
    {
      "metadata": {
        "trusted": true,
        "_uuid": "4f80709540548adf7fddff25ee00ec500e6a84a3"
      },
      "cell_type": "code",
      "source": "score = model.evaluate(X_test, y_test)\nprint('Test Accuracy: {:.2f}%\\nTest Loss: {}'.format(score[1]*100,score[0]))",
      "execution_count": 36,
      "outputs": [
        {
          "output_type": "stream",
          "text": "85443/85443 [==============================] - 2s 29us/step\nTest Accuracy: 99.94%\nTest Loss: 0.002909836608232323\n",
          "name": "stdout"
        }
      ]
    },
    {
      "metadata": {
        "trusted": true,
        "_uuid": "15dd73ba1851fdb9f010ea134b17b987159879d4"
      },
      "cell_type": "code",
      "source": "from sklearn.metrics import confusion_matrix, classification_report",
      "execution_count": 37,
      "outputs": []
    },
    {
      "metadata": {
        "trusted": true,
        "_uuid": "8de5c11035fc3f77c97c15707c2bfb3ea0b3f218"
      },
      "cell_type": "code",
      "source": "y_pred = model.predict(X_test)\ny_test = pd.DataFrame(y_test)",
      "execution_count": 38,
      "outputs": []
    },
    {
      "metadata": {
        "trusted": true,
        "_uuid": "45c001ab08bb6586d0e16d7cd9d6f8cd4449f0ae"
      },
      "cell_type": "code",
      "source": "cm = confusion_matrix(y_test, y_pred.round())",
      "execution_count": 39,
      "outputs": []
    },
    {
      "metadata": {
        "trusted": true,
        "_uuid": "bb6f81d268685f92742c49df12911da35273c5cf"
      },
      "cell_type": "code",
      "source": "sns.heatmap(cm, annot=True, fmt='.0f', cmap='cividis_r')\nplt.show()",
      "execution_count": 43,
      "outputs": [
        {
          "output_type": "display_data",
          "data": {
            "text/plain": "<Figure size 432x288 with 2 Axes>",
            "image/png": "[encoded data removed]"
          },
          "metadata": {}
        }
      ]
    },
    {
      "metadata": {
        "_uuid": "5078995dcb059a643b52871cb893a1d4a728531f"
      },
      "cell_type": "markdown",
      "source": "Our results is fine however it is not the best way to do things like that. Since our dataset is unbalanced (we have 492 frauds out of 284,807 transactions) we will use 'smote sampling'. Basically smote turn our inbalanced data to balanced data.\nFor brief explanation you can check the link: http://rikunert.com/SMOTE_explained"
    },
    {
      "metadata": {
        "_uuid": "93928885129048c71adf65de4879dfc94deec923"
      },
      "cell_type": "markdown",
      "source": "## SMOTE Sampling"
    },
    {
      "metadata": {
        "trusted": true,
        "_uuid": "7f586365770c978a2c7c4c8b1638d8a3bcffce92"
      },
      "cell_type": "code",
      "source": "from imblearn.over_sampling import SMOTE",
      "execution_count": 44,
      "outputs": []
    },
    {
      "metadata": {
        "trusted": true,
        "_uuid": "44197a921631f5c93eda00ef2fa29f73be2392e6"
      },
      "cell_type": "code",
      "source": "X_smote, y_smote = SMOTE().fit_sample(X, y)",
      "execution_count": 45,
      "outputs": []
    },
    {
      "metadata": {
        "trusted": true,
        "_uuid": "dcb1acebc46ae4aa37d418783212b25180f51562"
      },
      "cell_type": "code",
      "source": "X_smote = pd.DataFrame(X_smote)\ny_smote = pd.DataFrame(y_smote)",
      "execution_count": 47,
      "outputs": []
    },
    {
      "metadata": {
        "trusted": true,
        "_uuid": "392ba7bf79dd5cab8efa81398291ddcfbd8236de"
      },
      "cell_type": "code",
      "source": "y_smote.iloc[:,0].value_counts()",
      "execution_count": 60,
      "outputs": [
        {
          "output_type": "execute_result",
          "execution_count": 60,
          "data": {
            "text/plain": "1    284315\n0    284315\nName: 0, dtype: int64"
          },
          "metadata": {}
        }
      ]
    },
    {
      "metadata": {
        "trusted": true,
        "_uuid": "77007a6f4e5d1c760a1d2b447479076397552767"
      },
      "cell_type": "code",
      "source": "X_train, X_test, y_train, y_test = train_test_split(X_smote, y_smote, test_size=0.3, random_state=0)",
      "execution_count": 61,
      "outputs": []
    },
    {
      "metadata": {
        "trusted": true,
        "_uuid": "8922bbbbcf1cae9a857ba064150e892024657682"
      },
      "cell_type": "code",
      "source": "X_train = np.array(X_train)\nX_test = np.array(X_test)\ny_train = np.array(y_train)\ny_test = np.array(y_test)",
      "execution_count": 62,
      "outputs": []
    },
    {
      "metadata": {
        "trusted": true,
        "_uuid": "7048b903cc35adaedea0e531c33b9e9334b659da"
      },
      "cell_type": "code",
      "source": "model.compile(optimizer='adam', loss='binary_crossentropy', metrics=['accuracy'])\nmodel.fit(X_train, y_train, batch_size = 30, epochs = 5)",
      "execution_count": 63,
      "outputs": [
        {
          "output_type": "stream",
          "text": "Epoch 1/5\n398041/398041 [==============================] - 25s 64us/step - loss: 0.0319 - acc: 0.9892\nEpoch 2/5\n398041/398041 [==============================] - 27s 67us/step - loss: 0.0118 - acc: 0.9968\nEpoch 3/5\n398041/398041 [==============================] - 24s 61us/step - loss: 0.0096 - acc: 0.9976\nEpoch 4/5\n398041/398041 [==============================] - 24s 61us/step - loss: 0.0080 - acc: 0.9980\nEpoch 5/5\n398041/398041 [==============================] - 24s 61us/step - loss: 0.0073 - acc: 0.9982\n",
          "name": "stdout"
        },
        {
          "output_type": "execute_result",
          "execution_count": 63,
          "data": {
            "text/plain": "<keras.callbacks.History at 0x7fc4f989a438>"
          },
          "metadata": {}
        }
      ]
    },
    {
      "metadata": {
        "trusted": true,
        "_uuid": "f66f4b80521d7f3d101fa90f266d09d4a1cd2b03"
      },
      "cell_type": "code",
      "source": "score = model.evaluate(X_test, y_test)\nprint('Test Accuracy: {:.2f}%\\nTest Loss: {}'.format(score[1]*100,score[0]))",
      "execution_count": 64,
      "outputs": [
        {
          "output_type": "stream",
          "text": "170589/170589 [==============================] - 5s 30us/step\nTest Accuracy: 99.76%\nTest Loss: 0.009045598387554149\n",
          "name": "stdout"
        }
      ]
    },
    {
      "metadata": {
        "trusted": true,
        "_uuid": "f00f405172b87c0ae5402d475dfa24d7f3df346a"
      },
      "cell_type": "code",
      "source": "y_pred = model.predict(X_test)\ny_test = pd.DataFrame(y_test)\ncm = confusion_matrix(y_test, y_pred.round())\nsns.heatmap(cm, annot=True, fmt='.0f')\nplt.show()",
      "execution_count": 65,
      "outputs": [
        {
          "output_type": "display_data",
          "data": {
            "text/plain": "<Figure size 432x288 with 2 Axes>",
            "image/png": "[encoded data removed]"
          },
          "metadata": {}
        }
      ]
    },
    {
      "metadata": {
        "_uuid": "2290e72b52e70a0f419e06afd17481d7fe303ff3"
      },
      "cell_type": "markdown",
      "source": "It is not the true result 'cause we used data with smote sampling because of that number of class 0 and class 1 are equal in here. That's why we'll use whole data we imported at the beginning."
    },
    {
      "metadata": {
        "trusted": true,
        "_uuid": "8634bfb85a23ab75f04e3f863c12241d48a265f9"
      },
      "cell_type": "code",
      "source": "y_pred2 = model.predict(X)\ny_test2 = pd.DataFrame(y)\ncm2 = confusion_matrix(y_test2, y_pred2.round())\nsns.heatmap(cm2, annot=True, fmt='.0f', cmap='coolwarm')\nplt.show()",
      "execution_count": 67,
      "outputs": [
        {
          "output_type": "display_data",
          "data": {
            "text/plain": "<Figure size 432x288 with 2 Axes>",
            "image/png": "[encoded data removed]"
          },
          "metadata": {}
        }
      ]
    },
    {
      "metadata": {
        "trusted": true,
        "_uuid": "e96aea2d8aa908cbb735fb8bc053b3a3b4fc102d"
      },
      "cell_type": "code",
      "source": "print(classification_report(y_test2, y_pred2.round()))",
      "execution_count": 72,
      "outputs": [
        {
          "output_type": "stream",
          "text": "              precision    recall  f1-score   support\n\n           0       1.00      1.00      1.00    284315\n           1       0.41      0.99      0.58       492\n\n   micro avg       1.00      1.00      1.00    284807\n   macro avg       0.71      0.99      0.79    284807\nweighted avg       1.00      1.00      1.00    284807\n\n",
          "name": "stdout"
        }
      ]
    },
    {
      "metadata": {
        "_uuid": "ef13f907636ceff97a0410e0bd62cee384c8c1e8"
      },
      "cell_type": "markdown",
      "source": "**Thank you, if you like it please upvote and make a comment.**"
    }
  ],
  "metadata": {
    "kernelspec": {
      "display_name": "Python 3",
      "language": "python",
      "name": "python3"
    },
    "language_info": {
      "name": "python",
      "version": "3.6.6",
      "mimetype": "text/x-python",
      "codemirror_mode": {
        "name": "ipython",
        "version": 3
      },
      "pygments_lexer": "ipython3",
      "nbconvert_exporter": "python",
      "file_extension": ".py"
    }
  },
  "nbformat": 4,
  "nbformat_minor": 1
}
